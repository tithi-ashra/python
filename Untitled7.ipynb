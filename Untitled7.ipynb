{
 "cells": [
  {
   "cell_type": "code",
   "execution_count": 14,
   "metadata": {},
   "outputs": [
    {
     "name": "stdout",
     "output_type": "stream",
     "text": [
      "[2, 5, 7, 8, 9, -10, -3, -1]\n"
     ]
    }
   ],
   "source": [
    "l=[-1,2,-3,5,7,8,9,-10]\n",
    "l.sort(key=lambda i:0 if i==0 else -1/i)\n",
    "print(l)"
   ]
  },
  {
   "cell_type": "code",
   "execution_count": 17,
   "metadata": {},
   "outputs": [
    {
     "name": "stdout",
     "output_type": "stream",
     "text": [
      "ACNB\n"
     ]
    }
   ],
   "source": [
    "s='ADFGBCNDACNB'\n",
    "t='ABC'\n",
    "counter_t = {}\n",
    "counter_s = {}\n",
    "for c in t:\n",
    "    counter_t[c] = counter_t.get(c, 0) + 1\n",
    "i = 0\n",
    "j = 0\n",
    "left = -1\n",
    "right = -1\n",
    "valid = 0\n",
    "for i in range(len(s)):\n",
    "    while j < len(s) and valid < len(counter_t):\n",
    "        counter_s[s[j]] = counter_s.get(s[j], 0) + 1\n",
    "        if s[j] in counter_t and counter_s[s[j]] == counter_t[s[j]]:\n",
    "            valid += 1\n",
    "\n",
    "        j += 1\n",
    "    if valid == len(counter_t):\n",
    "        if left == -1 or j - i < right - left:\n",
    "            left = i\n",
    "            right = j\n",
    "        counter_s[s[i]] -= 1\n",
    "        if s[i] in counter_t and counter_s[s[i]] == counter_t[s[i]] - 1:\n",
    "            valid -= 1\n",
    "    if left == -1:\n",
    "        print('not found')\n",
    "\n",
    "print(s[left : right])"
   ]
  },
  {
   "cell_type": "code",
   "execution_count": 19,
   "metadata": {},
   "outputs": [
    {
     "ename": "TypeError",
     "evalue": "cannot unpack non-iterable int object",
     "output_type": "error",
     "traceback": [
      "\u001b[1;31m---------------------------------------------------------------------------\u001b[0m",
      "\u001b[1;31mTypeError\u001b[0m                                 Traceback (most recent call last)",
      "\u001b[1;32m<ipython-input-19-8b2b8686d00c>\u001b[0m in \u001b[0;36m<module>\u001b[1;34m\u001b[0m\n\u001b[0;32m     22\u001b[0m             \u001b[1;32mreturn\u001b[0m \u001b[1;34m'not found'\u001b[0m\u001b[1;33m\u001b[0m\u001b[1;33m\u001b[0m\u001b[0m\n\u001b[0;32m     23\u001b[0m     \u001b[1;32mreturn\u001b[0m \u001b[0ms\u001b[0m\u001b[1;33m[\u001b[0m\u001b[0mhave\u001b[0m\u001b[1;33m:\u001b[0m\u001b[0mneed\u001b[0m\u001b[1;33m]\u001b[0m\u001b[1;33m\u001b[0m\u001b[1;33m\u001b[0m\u001b[0m\n\u001b[1;32m---> 24\u001b[1;33m \u001b[0mprint\u001b[0m\u001b[1;33m(\u001b[0m\u001b[0mminwindow\u001b[0m\u001b[1;33m(\u001b[0m\u001b[0ms\u001b[0m\u001b[1;33m,\u001b[0m\u001b[0mt\u001b[0m\u001b[1;33m)\u001b[0m\u001b[1;33m)\u001b[0m\u001b[1;33m\u001b[0m\u001b[1;33m\u001b[0m\u001b[0m\n\u001b[0m",
      "\u001b[1;32m<ipython-input-19-8b2b8686d00c>\u001b[0m in \u001b[0;36mminwindow\u001b[1;34m(s, t)\u001b[0m\n\u001b[0;32m      5\u001b[0m         \u001b[1;32mreturn\u001b[0m \u001b[1;34m\"\"\u001b[0m\u001b[1;33m\u001b[0m\u001b[1;33m\u001b[0m\u001b[0m\n\u001b[0;32m      6\u001b[0m     \u001b[0mcountT\u001b[0m\u001b[1;33m,\u001b[0m\u001b[0mwindow\u001b[0m \u001b[1;33m=\u001b[0m \u001b[1;33m{\u001b[0m\u001b[1;33m}\u001b[0m\u001b[1;33m,\u001b[0m\u001b[1;33m{\u001b[0m\u001b[1;33m}\u001b[0m\u001b[1;33m\u001b[0m\u001b[1;33m\u001b[0m\u001b[0m\n\u001b[1;32m----> 7\u001b[1;33m     \u001b[0mhave\u001b[0m\u001b[1;33m,\u001b[0m\u001b[0mneed\u001b[0m \u001b[1;33m=\u001b[0m \u001b[1;36m0\u001b[0m\u001b[1;33m\u001b[0m\u001b[1;33m\u001b[0m\u001b[0m\n\u001b[0m\u001b[0;32m      8\u001b[0m     \u001b[0mres\u001b[0m\u001b[1;33m,\u001b[0m\u001b[0mreslen\u001b[0m \u001b[1;33m=\u001b[0m \u001b[1;33m[\u001b[0m\u001b[1;33m-\u001b[0m\u001b[1;36m1\u001b[0m\u001b[1;33m,\u001b[0m\u001b[1;33m-\u001b[0m\u001b[1;36m1\u001b[0m\u001b[1;33m]\u001b[0m\u001b[1;33m,\u001b[0m\u001b[0mfloat\u001b[0m\u001b[1;33m(\u001b[0m\u001b[1;34m'infinity'\u001b[0m\u001b[1;33m)\u001b[0m\u001b[1;33m\u001b[0m\u001b[1;33m\u001b[0m\u001b[0m\n\u001b[0;32m      9\u001b[0m     \u001b[0ml\u001b[0m \u001b[1;33m=\u001b[0m \u001b[1;36m0\u001b[0m\u001b[1;33m\u001b[0m\u001b[1;33m\u001b[0m\u001b[0m\n",
      "\u001b[1;31mTypeError\u001b[0m: cannot unpack non-iterable int object"
     ]
    }
   ],
   "source": [
    "s='ADFGBCNDACNB'\n",
    "t='ABC'\n",
    "def minwindow(s,t):\n",
    "    if t==\"\":\n",
    "        return \"\"\n",
    "    countT,window = {},{}\n",
    "    have,need = 0\n",
    "    res,reslen = [-1,-1],float('infinity')\n",
    "    l = 0\n",
    "    for c in t:\n",
    "        countT[c] = countT.get(c,0)+1\n",
    "    for r in range(len(s)):\n",
    "        c = s[r]\n",
    "        window[c] = window.get(c,0)+1\n",
    "        if c in countT and window[c]==countT[c]:\n",
    "            have += 1\n",
    "    while have==need:\n",
    "        if (r-l+1)<reslen:\n",
    "            res = [l,r]\n",
    "            reslen = [r-l+1]\n",
    "        if l == -1:\n",
    "            return 'not found'\n",
    "    return s[have:need]\n",
    "print(minwindow(s,t))"
   ]
  }
 ],
 "metadata": {
  "kernelspec": {
   "display_name": "Python 3",
   "language": "python",
   "name": "python3"
  },
  "language_info": {
   "codemirror_mode": {
    "name": "ipython",
    "version": 3
   },
   "file_extension": ".py",
   "mimetype": "text/x-python",
   "name": "python",
   "nbconvert_exporter": "python",
   "pygments_lexer": "ipython3",
   "version": "3.8.5"
  }
 },
 "nbformat": 4,
 "nbformat_minor": 4
}
