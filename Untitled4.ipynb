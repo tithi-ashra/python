{
 "cells": [
  {
   "cell_type": "code",
   "execution_count": 5,
   "metadata": {},
   "outputs": [
    {
     "name": "stdout",
     "output_type": "stream",
     "text": [
      "Enter tuple : (1,4,6,8,2,9,15,7)\n",
      "2 8\n",
      "1 15\n"
     ]
    }
   ],
   "source": [
    "t = eval(input(\"Enter tuple : \"))\n",
    "e_max = o_max = 0\n",
    "o_min = e_min = 100\n",
    "for i in range(len(t)):\n",
    "    if t[i]%2==0:\n",
    "        if e_max<t[i]:\n",
    "            e_max = t[i]\n",
    "        if e_min>t[i]:\n",
    "            e_min = t[i]\n",
    "    else:\n",
    "        if o_max<t[i]:\n",
    "            o_max = t[i]\n",
    "        if o_min>t[i]:\n",
    "            o_min = t[i]\n",
    "print(e_min,e_max)\n",
    "print(o_min,o_max)"
   ]
  },
  {
   "cell_type": "code",
   "execution_count": 11,
   "metadata": {},
   "outputs": [
    {
     "name": "stdout",
     "output_type": "stream",
     "text": [
      "<class 'dict'>\n",
      "{}\n",
      "<class 'dict'>\n"
     ]
    }
   ],
   "source": [
    "d={}\n",
    "print(type(d))\n",
    "d=dict()\n",
    "print(d)\n",
    "print(type(d))"
   ]
  },
  {
   "cell_type": "code",
   "execution_count": 22,
   "metadata": {},
   "outputs": [
    {
     "name": "stdout",
     "output_type": "stream",
     "text": [
      "{'python': 20, 'fsd': 22, 'ps': 19, 'de': 25}\n",
      "{'python': 20, 'fsd': 15, 'ps': 19, 'de': 25}\n",
      "20\n",
      "{'python': 20, 'fsd': 15, 'ps': 9, 'de': 25}\n",
      "{'python': 20, 'fsd': 15, 'ps': 9, 'de': 25, 'vha': 10}\n"
     ]
    }
   ],
   "source": [
    "d={'python':20,'fsd':22,'ps':19,'de':25}\n",
    "print(d)\n",
    "#print(d[0])                                      #error\n",
    "#d={'python':20,['fsd']:22,'ps':19,'de':25}       #error\n",
    "d={'python':20,'fsd':22,'ps':19,'de':25,'fsd':15}\n",
    "print(d)\n",
    "print(d['python'])\n",
    "#print(d['pdo'])                                   #Keyerror\n",
    "d['ps'] = 9\n",
    "print(d)\n",
    "d['vha'] = 10\n",
    "print(d)"
   ]
  },
  {
   "cell_type": "code",
   "execution_count": 26,
   "metadata": {},
   "outputs": [
    {
     "name": "stdout",
     "output_type": "stream",
     "text": [
      "{'python': {1: 10, 2: 10, 3: 10}, 'fsd': {1: 9, 2: 10, 3: 9}}\n",
      "{1: 9, 2: 10, 3: 9}\n",
      "10\n"
     ]
    }
   ],
   "source": [
    "d={'python':{1:10,2:10,3:10},'fsd':{1:9,2:10,3:9}}\n",
    "print(d)\n",
    "print(d['fsd'])\n",
    "print(d['fsd'][2])"
   ]
  },
  {
   "cell_type": "code",
   "execution_count": 37,
   "metadata": {},
   "outputs": [
    {
     "name": "stdout",
     "output_type": "stream",
     "text": [
      "{1: 9, 3: 5, 5: 6, 4: 7}\n",
      "vishal10\n",
      "{'1': 2, '3': 4, '4': 7, '5': 8}\n",
      "4\n",
      "{'1': 2, '4': 7}\n",
      "{}\n"
     ]
    }
   ],
   "source": [
    "#Update the dict\n",
    "d={1:2,3:4,5:6}\n",
    "d.update({3:5,4:7,1:9})\n",
    "print(d)\n",
    "\n",
    "#Delete dict\n",
    "v = 'vishal10'\n",
    "#del v[0]                              #type error\n",
    "d={'1':2,'3':4,'4':7,'5':8}\n",
    "#d.pop()                               #error\n",
    "#d.pop('3')\n",
    "print(d)\n",
    "print(d.pop('3'))\n",
    "d.popitem()\n",
    "print(d)\n",
    "d.clear()\n",
    "print(d)"
   ]
  },
  {
   "cell_type": "code",
   "execution_count": 40,
   "metadata": {},
   "outputs": [
    {
     "name": "stdout",
     "output_type": "stream",
     "text": [
      "False\n"
     ]
    },
    {
     "ename": "TypeError",
     "evalue": "unhashable type: 'list'",
     "output_type": "error",
     "traceback": [
      "\u001b[1;31m---------------------------------------------------------------------------\u001b[0m",
      "\u001b[1;31mTypeError\u001b[0m                                 Traceback (most recent call last)",
      "\u001b[1;32m<ipython-input-40-a3786b063d71>\u001b[0m in \u001b[0;36m<module>\u001b[1;34m\u001b[0m\n\u001b[0;32m      1\u001b[0m \u001b[0md\u001b[0m\u001b[1;33m=\u001b[0m\u001b[1;33m{\u001b[0m\u001b[1;34m'1'\u001b[0m\u001b[1;33m:\u001b[0m\u001b[1;36m2\u001b[0m\u001b[1;33m,\u001b[0m\u001b[1;34m'3'\u001b[0m\u001b[1;33m:\u001b[0m\u001b[1;36m4\u001b[0m\u001b[1;33m,\u001b[0m\u001b[1;34m'4'\u001b[0m\u001b[1;33m:\u001b[0m\u001b[1;36m7\u001b[0m\u001b[1;33m,\u001b[0m\u001b[1;34m'5'\u001b[0m\u001b[1;33m:\u001b[0m\u001b[1;36m8\u001b[0m\u001b[1;33m}\u001b[0m\u001b[1;33m\u001b[0m\u001b[1;33m\u001b[0m\u001b[0m\n\u001b[0;32m      2\u001b[0m \u001b[0mprint\u001b[0m\u001b[1;33m(\u001b[0m\u001b[1;36m1\u001b[0m \u001b[1;32min\u001b[0m \u001b[0md\u001b[0m\u001b[1;33m)\u001b[0m\u001b[1;33m\u001b[0m\u001b[1;33m\u001b[0m\u001b[0m\n\u001b[1;32m----> 3\u001b[1;33m \u001b[0md\u001b[0m\u001b[1;33m=\u001b[0m\u001b[1;33m{\u001b[0m\u001b[1;34m'1'\u001b[0m\u001b[1;33m:\u001b[0m\u001b[1;36m1\u001b[0m\u001b[1;33m,\u001b[0m\u001b[1;33m[\u001b[0m\u001b[1;36m1\u001b[0m\u001b[1;33m]\u001b[0m\u001b[1;33m:\u001b[0m\u001b[1;36m4\u001b[0m\u001b[1;33m,\u001b[0m\u001b[1;34m'4'\u001b[0m\u001b[1;33m:\u001b[0m\u001b[1;36m7\u001b[0m\u001b[1;33m,\u001b[0m\u001b[1;34m'5'\u001b[0m\u001b[1;33m:\u001b[0m\u001b[1;36m8\u001b[0m\u001b[1;33m}\u001b[0m\u001b[1;33m\u001b[0m\u001b[1;33m\u001b[0m\u001b[0m\n\u001b[0m\u001b[0;32m      4\u001b[0m \u001b[0mprint\u001b[0m\u001b[1;33m(\u001b[0m\u001b[1;36m1\u001b[0m \u001b[1;32min\u001b[0m \u001b[0md\u001b[0m\u001b[1;33m)\u001b[0m\u001b[1;33m\u001b[0m\u001b[1;33m\u001b[0m\u001b[0m\n",
      "\u001b[1;31mTypeError\u001b[0m: unhashable type: 'list'"
     ]
    }
   ],
   "source": [
    "d={'1':2,'3':4,'4':7,'5':8}\n",
    "print(1 in d)\n",
    "d={'1':1,[1]:4,'4':7,'5':8}\n",
    "print(1 in d)"
   ]
  },
  {
   "cell_type": "code",
   "execution_count": 57,
   "metadata": {},
   "outputs": [
    {
     "name": "stdout",
     "output_type": "stream",
     "text": [
      "vha\n",
      "v\n",
      "python\n",
      "\n",
      "vha - 10\n",
      "v - 9\n",
      "python - 10\n",
      "\n",
      "dict_keys(['vha', 'v', 'python'])\n",
      "<class 'dict_keys'>\n",
      "dict_values([10, 9, 10])\n",
      "<class 'dict_values'>\n",
      "dict_items([('vha', 10), ('v', 9), ('python', 10)])\n",
      "<class 'dict_items'>\n",
      "<class 'builtin_function_or_method'> <class 'builtin_function_or_method'>\n"
     ]
    }
   ],
   "source": [
    "d={'vha':10,'v':9,'python':10}\n",
    "for i in d:\n",
    "    print(i)\n",
    "print()\n",
    "for i in d:\n",
    "    print(i,\"-\",d[i])\n",
    "print()\n",
    "print(d.keys())\n",
    "print(type(d.keys()))\n",
    "print(d.values())\n",
    "print(type(d.values()))\n",
    "print(d.items())\n",
    "print(type(d.items()))\n",
    "\n",
    "print(type(d.keys),(type(d.values)))"
   ]
  },
  {
   "cell_type": "code",
   "execution_count": 58,
   "metadata": {},
   "outputs": [
    {
     "name": "stdout",
     "output_type": "stream",
     "text": [
      "3\n",
      "vha\n",
      "python\n",
      "['python', 'v', 'vha']\n"
     ]
    }
   ],
   "source": [
    "d={'vha':10,'v':9,'python':10}\n",
    "print(len(d))\n",
    "print(max(d))\n",
    "print(min(d))\n",
    "print(sorted(d))"
   ]
  },
  {
   "cell_type": "code",
   "execution_count": 73,
   "metadata": {},
   "outputs": [
    {
     "name": "stdout",
     "output_type": "stream",
     "text": [
      "{'vha': 10, 'v': 9, 'python': 10}\n",
      "{'vha': 10, 'v': 9, 'python': 10, 'vishal': 9}\n",
      "{1: 10, 2: 10, 3: 10}\n",
      "{'v': 10, 'i': 10, 's': 10, 'h': 10, 'a': 10, 'l': 10}\n"
     ]
    }
   ],
   "source": [
    "d={'vha':10,'v':9,'python':10}\n",
    "d.setdefault('vha')\n",
    "print(d)\n",
    "#d.setdefault('vishal')                    #{'vha': 10, 'v': 9, 'python': 10, 'vishal': None}\n",
    "#d.setdefault('vishal',10)                 #{'vha': 10, 'v': 9, 'python': 10, 'vishal': 10}\n",
    "d.setdefault('vishal',9)\n",
    "print(d)\n",
    "d=d.fromkeys((1,2,3),10)\n",
    "print(d)\n",
    "d=d.fromkeys('vishal',10)\n",
    "print(d)"
   ]
  },
  {
   "cell_type": "code",
   "execution_count": 78,
   "metadata": {},
   "outputs": [
    {
     "name": "stdout",
     "output_type": "stream",
     "text": [
      "1\n",
      "None\n",
      "10\n",
      "1\n"
     ]
    }
   ],
   "source": [
    "d={'A':1,'B':2,'C':3}\n",
    "print(d.get('A'))\n",
    "print(d.get('E'))\n",
    "print(d.get('E',10))\n",
    "print(d.get('A',5))"
   ]
  },
  {
   "cell_type": "code",
   "execution_count": 101,
   "metadata": {},
   "outputs": [
    {
     "name": "stdout",
     "output_type": "stream",
     "text": [
      "{'a': ['apple', 'are', 'an'], 'o': ['orange', 'ora'], 'g': ['good'], 'i': ['in']}\n"
     ]
    }
   ],
   "source": [
    "s='apple orange are good in an ora'\n",
    "s=s.split()\n",
    "ans=dict()\n",
    "for i in s:\n",
    "    ans[i[0]] = ans.get(i[0],0)+1 \n",
    "print(ans)\n",
    "\n",
    "for i in s:\n",
    "    ans[i[0]] = ans.get(i[0],[])+[i]\n",
    "print(ans)"
   ]
  },
  {
   "cell_type": "code",
   "execution_count": 109,
   "metadata": {},
   "outputs": [
    {
     "name": "stdout",
     "output_type": "stream",
     "text": [
      "Enter number : 2125\n"
     ]
    },
    {
     "ename": "TypeError",
     "evalue": "can only concatenate str (not \"NoneType\") to str",
     "output_type": "error",
     "traceback": [
      "\u001b[1;31m---------------------------------------------------------------------------\u001b[0m",
      "\u001b[1;31mTypeError\u001b[0m                                 Traceback (most recent call last)",
      "\u001b[1;32m<ipython-input-109-af115418df2f>\u001b[0m in \u001b[0;36m<module>\u001b[1;34m\u001b[0m\n\u001b[0;32m     16\u001b[0m     \u001b[0mn\u001b[0m \u001b[1;33m=\u001b[0m \u001b[0mnum\u001b[0m\u001b[1;33m//\u001b[0m\u001b[1;36m10\u001b[0m\u001b[1;33m\u001b[0m\u001b[1;33m\u001b[0m\u001b[0m\n\u001b[0;32m     17\u001b[0m     \u001b[1;32mif\u001b[0m \u001b[1;33m(\u001b[0m\u001b[0mn\u001b[0m\u001b[1;33m!=\u001b[0m\u001b[1;36m0\u001b[0m\u001b[1;33m)\u001b[0m\u001b[1;33m:\u001b[0m\u001b[1;33m\u001b[0m\u001b[1;33m\u001b[0m\u001b[0m\n\u001b[1;32m---> 18\u001b[1;33m         \u001b[0ms\u001b[0m \u001b[1;33m+=\u001b[0m \u001b[0mtendict\u001b[0m\u001b[1;33m.\u001b[0m\u001b[0mget\u001b[0m\u001b[1;33m(\u001b[0m\u001b[0mn\u001b[0m\u001b[1;33m)\u001b[0m\u001b[1;33m\u001b[0m\u001b[1;33m\u001b[0m\u001b[0m\n\u001b[0m\u001b[0;32m     19\u001b[0m     \u001b[0mn\u001b[0m \u001b[1;33m=\u001b[0m \u001b[0mnum\u001b[0m\u001b[1;33m%\u001b[0m\u001b[1;36m10\u001b[0m\u001b[1;33m\u001b[0m\u001b[1;33m\u001b[0m\u001b[0m\n\u001b[0;32m     20\u001b[0m     \u001b[1;32mif\u001b[0m \u001b[1;33m(\u001b[0m\u001b[0mn\u001b[0m\u001b[1;33m!=\u001b[0m\u001b[1;36m0\u001b[0m\u001b[1;33m)\u001b[0m\u001b[1;33m:\u001b[0m\u001b[1;33m\u001b[0m\u001b[1;33m\u001b[0m\u001b[0m\n",
      "\u001b[1;31mTypeError\u001b[0m: can only concatenate str (not \"NoneType\") to str"
     ]
    }
   ],
   "source": [
    "num = (input(\"Enter number : \"))\n",
    "s=''\n",
    "onedict={1:'one',2:'two',3:'three',4:'four',5:'five',6:'six',7:'seven',8:'eight',9:'nine',10:'ten',11:'eleven',12:'twelve',13:'thirteen',14:'fourteen',15:'fifteen',16:'sixteen',17:'seventeen',18:'eighteen',19:'nineteen',20:'twenty'}\n",
    "tendict={2:'twenty',3:'thirty',4:'fourty',5:'fifty',6:'sixty',7:'seventy',8:'eighty',9:'ninety'}\n",
    "twodict={3:'hundred',4:'thousand'}\n",
    "for i in range(len(num)):\n",
    "    num = int(num)\n",
    "    n = num//1000\n",
    "    if (n!=0):\n",
    "        s += onedict.get(n)+twodict.get(4)\n",
    "    num = num-1000\n",
    "    n = num//100\n",
    "    if (n!=0):\n",
    "        s += onedict.get(n)+twodict.get(3)\n",
    "    num = num-100\n",
    "    n = num//10\n",
    "    if (n!=0):\n",
    "        s += tendict.get(n)\n",
    "    n = num%10\n",
    "    if (n!=0):\n",
    "        s += onedict.get(n)\n",
    "print(s)"
   ]
  }
 ],
 "metadata": {
  "kernelspec": {
   "display_name": "Python 3",
   "language": "python",
   "name": "python3"
  },
  "language_info": {
   "codemirror_mode": {
    "name": "ipython",
    "version": 3
   },
   "file_extension": ".py",
   "mimetype": "text/x-python",
   "name": "python",
   "nbconvert_exporter": "python",
   "pygments_lexer": "ipython3",
   "version": "3.8.5"
  }
 },
 "nbformat": 4,
 "nbformat_minor": 4
}
