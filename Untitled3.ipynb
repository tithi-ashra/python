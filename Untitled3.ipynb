{
 "cells": [
  {
   "cell_type": "code",
   "execution_count": 16,
   "metadata": {},
   "outputs": [
    {
     "name": "stdout",
     "output_type": "stream",
     "text": [
      "Enter list : [5,5,5,5,5]\n",
      "[5, 5, 5, 5, 5]\n",
      "[5, 5, 5, 5, 5]\n",
      "0\n"
     ]
    }
   ],
   "source": [
    "l = eval(input(\"Enter list : \"))\n",
    "left_max = [0]*len(l)\n",
    "right_max = [0]*len(l)\n",
    "left_max[0] = l[0]\n",
    "right_max[-1] = l[-1]\n",
    "ans = 0\n",
    "for i in range(len(l)):\n",
    "    left_max[i] = max(left_max[i-1],l[i])\n",
    "print(left_max)  \n",
    "for i in range(len(l)-2,-1,-1):\n",
    "    right_max[i] = max(right_max[i+1],l[i])\n",
    "print(right_max)\n",
    "for i in range(len(l)):\n",
    "    ans += min(left_max[i],right_max[i])-l[i]\n",
    "print(ans)"
   ]
  },
  {
   "cell_type": "code",
   "execution_count": 12,
   "metadata": {},
   "outputs": [
    {
     "name": "stdout",
     "output_type": "stream",
     "text": [
      "Enter list : [1,2,6,4]\n",
      "balance\n"
     ]
    }
   ],
   "source": [
    "l = eval(input(\"Enter list : \"))\n",
    "c = 0\n",
    "for i in range(len(l)):\n",
    "    temp = l[:i]+l[i+1:]\n",
    "    o_c=sum(temp[1::2])\n",
    "    e_c=sum(temp[0::2])\n",
    "    if o_c == e_c:\n",
    "        c += 1    \n",
    "if c:\n",
    "    print(\"balance\")\n",
    "else:\n",
    "    print(\"not balance\")"
   ]
  },
  {
   "cell_type": "code",
   "execution_count": 31,
   "metadata": {},
   "outputs": [
    {
     "name": "stdout",
     "output_type": "stream",
     "text": [
      "Enter string : secret message\n",
      "Enter number to break the string : 3\n",
      "sr sgeemsectea\n"
     ]
    }
   ],
   "source": [
    "s = input(\"Enter string : \")\n",
    "l = int(input(\"Enter number to break the string : \"))\n",
    "encode = \"\"\n",
    "for i in range(0,l):\n",
    "    encode += s[i::l]\n",
    "print(encode)"
   ]
  },
  {
   "cell_type": "code",
   "execution_count": 6,
   "metadata": {},
   "outputs": [
    {
     "name": "stdout",
     "output_type": "stream",
     "text": [
      "Enter string : sr sgeemsectea\n",
      "Enter number to break the string : 3\n",
      "secret message\n"
     ]
    }
   ],
   "source": [
    "s = input(\"Enter string : \")\n",
    "l = int(input(\"Enter number to break the string : \"))\n",
    "decode = \"\"\n",
    "count = 0\n",
    "ans = [\"\"]*len(s)\n",
    "for i in range(0,l):\n",
    "    for j in range(i,len(s),3):\n",
    "        ans[j] = s[count]\n",
    "        count += 1\n",
    "print(decode.join(ans))"
   ]
  },
  {
   "cell_type": "code",
   "execution_count": 36,
   "metadata": {},
   "outputs": [
    {
     "name": "stdout",
     "output_type": "stream",
     "text": [
      "[10, 9, 8, 7, 6, 5, 3, 2, 1]\n",
      "[10, 9, 8, 7, 6, 5, 3, 2, 1]\n",
      "1\n",
      "8\n",
      "2135439868864\n",
      "2135440993536\n",
      "[10, 9, 8, 7, 6, 5, 3, 2, 1]\n",
      "[(0, 'v'), (1, 'i'), (2, 's'), (3, 'h'), (4, 'a'), (5, 'l'), (6, '1'), (7, '0')]\n",
      "[(10, 'v'), (11, 'i'), (12, 's'), (13, 'h'), (14, 'a'), (15, 'l'), (16, '1'), (17, '0')]\n"
     ]
    }
   ],
   "source": [
    "l=[10,9,8,7,6,5,1,2,3]\n",
    "l.sort(reverse=True)\n",
    "print(l)\n",
    "sorted(l)\n",
    "print(l)\n",
    "#l.sort(key=len)                 #error\n",
    "print(l.count(1))\n",
    "print(l.index(1))\n",
    "print(id(l))\n",
    "l1=l.copy()\n",
    "print(id(l1))\n",
    "print(l1)\n",
    "f=\"vishal10\"\n",
    "print(list(enumerate(f)))\n",
    "print(list(enumerate(f,start=10)))"
   ]
  },
  {
   "cell_type": "code",
   "execution_count": 37,
   "metadata": {},
   "outputs": [
    {
     "name": "stdout",
     "output_type": "stream",
     "text": [
      "['abc', 'vish', 'vishal', 'vz']\n",
      "['abc', 'vish', 'vishal', 'vz']\n",
      "['vz', 'abc', 'vish', 'vishal']\n",
      "['vishal', 'vish', 'abc', 'vz']\n",
      "0\n",
      "1\n",
      "2\n",
      "2135440945728\n",
      "2135439809152\n",
      "['vishal', 'vish', 'abc', 'vz']\n"
     ]
    }
   ],
   "source": [
    "l=[\"vishal\",\"vish\",\"abc\",\"vz\"]\n",
    "l.sort()\n",
    "print(l)\n",
    "sorted(l)\n",
    "print(l)\n",
    "l.sort(key=len)                         #sorting length wise\n",
    "print(l)\n",
    "l.sort(key=len,reverse=True)\n",
    "print(l)\n",
    "print(l.count(1))\n",
    "print(l.count(\"abc\"))\n",
    "#print(l.index(1))                      #error\n",
    "print(l.index(\"abc\"))\n",
    "print(id(l))\n",
    "l1=l.copy()\n",
    "print(id(l1))\n",
    "print(l1)"
   ]
  },
  {
   "cell_type": "code",
   "execution_count": 38,
   "metadata": {},
   "outputs": [
    {
     "name": "stdout",
     "output_type": "stream",
     "text": [
      "[1, 2, 3, 4, 5, 6, 7, 8, 9, 10, 11, 12, 13, 14, 15, 16, 17, 18, 19, 20, 21, 22, 23, 24, 25, 26, 27, 28, 29, 30, 31, 32, 33, 34, 35, 36, 37, 38, 39, 40, 41, 42, 43, 44, 45, 46, 47, 48, 49, 50, 51, 52, 53, 54, 55, 56, 57, 58, 59, 60, 61, 62, 63, 64, 65, 66, 67, 68, 69, 70, 71, 72, 73, 74, 75, 76, 77, 78, 79, 80, 81, 82, 83, 84, 85, 86, 87, 88, 89, 90, 91, 92, 93, 94, 95, 96, 97, 98, 99]\n"
     ]
    }
   ],
   "source": [
    "l=[i for i in range(1,100)]\n",
    "print(l)"
   ]
  },
  {
   "cell_type": "code",
   "execution_count": 42,
   "metadata": {},
   "outputs": [
    {
     "name": "stdout",
     "output_type": "stream",
     "text": [
      "Enter list : [\"vvisha\",\"vvisal\",\"vvv3\",\"vvin\",\"v\"]\n",
      "v\n"
     ]
    }
   ],
   "source": [
    "l = eval(input(\"Enter list : \"))\n",
    "l.sort()\n",
    "first = l[0]\n",
    "last = l[-1]\n",
    "p = 0\n",
    "min_l = min(len(first),len(last))\n",
    "for i in range(0,min_l):\n",
    "    if first[i]==last[i]:\n",
    "        p += 1\n",
    "for i in range(p):\n",
    "    print(first[i])"
   ]
  },
  {
   "cell_type": "code",
   "execution_count": 45,
   "metadata": {},
   "outputs": [
    {
     "name": "stdout",
     "output_type": "stream",
     "text": [
      "Enter list : [\"vvisha\",\"vvisal\",\"vvv3\",\"vvin\",\"v\"]\n",
      "v\n"
     ]
    }
   ],
   "source": [
    "l = eval(input(\"Enter list : \"))\n",
    "l.sort(key=len)\n",
    "flag = True\n",
    "new =\"\"\n",
    "for i in range(0,len(l[0])):\n",
    "    x = l[0][0]\n",
    "    for j in range(i,len(l)):\n",
    "        if x == l[j][i]:\n",
    "            flag = True\n",
    "        else:\n",
    "            flag = False\n",
    "    if flag:\n",
    "        new += l[0][i]\n",
    "    else:\n",
    "        new += l[0][i]\n",
    "print(new)"
   ]
  },
  {
   "cell_type": "code",
   "execution_count": 52,
   "metadata": {},
   "outputs": [
    {
     "name": "stdout",
     "output_type": "stream",
     "text": [
      "()\n",
      "()\n",
      "(5,)\n",
      "(1, 2, 3, 4, 5, 'vishal')\n",
      "('v', 'i', 's', 'h', 'a', 'l')\n"
     ]
    }
   ],
   "source": [
    "t=(1,0,2)\n",
    "#t[0]=5\n",
    "#print(t)                         #error\n",
    "t=tuple()\n",
    "print(t)\n",
    "t=()\n",
    "print(t)\n",
    "t=(5,)\n",
    "print(t)\n",
    "t=(1,2,3,4,5,'vishal')\n",
    "print(t)\n",
    "t=tuple('vishal')\n",
    "print(t)"
   ]
  },
  {
   "cell_type": "code",
   "execution_count": 56,
   "metadata": {},
   "outputs": [
    {
     "name": "stdout",
     "output_type": "stream",
     "text": [
      "1\n",
      "('tithi', 5, 4, 3, 2, 1)\n"
     ]
    }
   ],
   "source": [
    "t=(1,2,3,4,5,'tithi')\n",
    "print(t[0])\n",
    "print(t[::-1])\n",
    "#t[0:2]=t[1:4]                  #error"
   ]
  },
  {
   "cell_type": "code",
   "execution_count": 60,
   "metadata": {},
   "outputs": [
    {
     "name": "stdout",
     "output_type": "stream",
     "text": [
      "(1, 2, 3, 4)\n"
     ]
    }
   ],
   "source": [
    "t=(1,2,3,4)\n",
    "#del t[0]                           #error\n",
    "#del t                              #delete whole tuple\n",
    "print(t)"
   ]
  },
  {
   "cell_type": "code",
   "execution_count": 65,
   "metadata": {},
   "outputs": [
    {
     "name": "stdout",
     "output_type": "stream",
     "text": [
      "True\n",
      "False\n",
      "True\n"
     ]
    }
   ],
   "source": [
    "print((5,2,3)>(1,2,3))\n",
    "print(('v','a','b')>('x','a'))\n",
    "#print(('v','a','b')>(3,'a'))            #error\n",
    "print(('v','a','b')>('3','a'))"
   ]
  },
  {
   "cell_type": "code",
   "execution_count": 69,
   "metadata": {},
   "outputs": [
    {
     "name": "stdout",
     "output_type": "stream",
     "text": [
      "5\n",
      "1\n",
      "5\n",
      "15\n",
      "[1, 2, 3, 4, 5]\n",
      "1\n",
      "2\n",
      "<reversed object at 0x000001F1323164C0>\n"
     ]
    }
   ],
   "source": [
    "t=(1,2,3,4,5)\n",
    "print(len(t))\n",
    "print(min(t))\n",
    "print(max(t))\n",
    "print(sum(t))\n",
    "print(sorted(t))\n",
    "print(t.count(1))\n",
    "print(t.index(3))\n",
    "print(reversed(t))"
   ]
  },
  {
   "cell_type": "code",
   "execution_count": 71,
   "metadata": {},
   "outputs": [
    {
     "name": "stdout",
     "output_type": "stream",
     "text": [
      "()\n"
     ]
    }
   ],
   "source": [
    "t=()\n",
    "t+(1,2,3)\n",
    "print(t)"
   ]
  },
  {
   "cell_type": "code",
   "execution_count": 73,
   "metadata": {},
   "outputs": [
    {
     "name": "stdout",
     "output_type": "stream",
     "text": [
      "Enter tuple : (1,4,6,9)\n",
      "6 9\n"
     ]
    }
   ],
   "source": [
    "t = eval(input(\"Enter tuple : \"))\n",
    "e_max = o_max = 0\n",
    "for i in range(len(t)):\n",
    "    if i%2==0:\n",
    "        e_max = t[i]\n",
    "    else:\n",
    "        o_max = t[i]\n",
    "print(e_max,o_max)"
   ]
  }
 ],
 "metadata": {
  "kernelspec": {
   "display_name": "Python 3",
   "language": "python",
   "name": "python3"
  },
  "language_info": {
   "codemirror_mode": {
    "name": "ipython",
    "version": 3
   },
   "file_extension": ".py",
   "mimetype": "text/x-python",
   "name": "python",
   "nbconvert_exporter": "python",
   "pygments_lexer": "ipython3",
   "version": "3.8.5"
  }
 },
 "nbformat": 4,
 "nbformat_minor": 4
}
