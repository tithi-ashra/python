{
 "cells": [
  {
   "cell_type": "code",
   "execution_count": 6,
   "metadata": {},
   "outputs": [
    {
     "name": "stdout",
     "output_type": "stream",
     "text": [
      "<class 'list'>\n",
      "<class 'list'>\n"
     ]
    }
   ],
   "source": [
    "l=[]\n",
    "print(type(l))\n",
    "l=list()\n",
    "print(type(l))"
   ]
  },
  {
   "cell_type": "code",
   "execution_count": 11,
   "metadata": {},
   "outputs": [
    {
     "name": "stdout",
     "output_type": "stream",
     "text": [
      "2\n",
      "tithi\n",
      "tithi\n",
      "4\n",
      "i\n",
      "['v', 'i', 's', 'h', 'a', 'l']\n"
     ]
    }
   ],
   "source": [
    "l=[1,2,3,4,5,'tithi']\n",
    "print(l[1])\n",
    "print(l[5])\n",
    "print(l[-1])\n",
    "print(l[-3])\n",
    "print(l[-1][1])\n",
    "\n",
    "l=list('vishal')\n",
    "print(l)"
   ]
  },
  {
   "cell_type": "code",
   "execution_count": 19,
   "metadata": {},
   "outputs": [
    {
     "name": "stdout",
     "output_type": "stream",
     "text": [
      "<class 'list'>\n",
      "3\n",
      "[1, 2]\n",
      "<class 'list'>\n",
      "6\n",
      "6\n"
     ]
    }
   ],
   "source": [
    "l=[[1,2],[3,4],[5,6]]\n",
    "print(type(l))\n",
    "print(l[1][0])\n",
    "print(l[0])\n",
    "\n",
    "l=[[1,2],[3,4],[5,6,7],[8,9,10]]\n",
    "print(type(l))\n",
    "print(l[2][1])\n",
    "print(l[-2][-2])"
   ]
  },
  {
   "cell_type": "code",
   "execution_count": 23,
   "metadata": {},
   "outputs": [
    {
     "name": "stdout",
     "output_type": "stream",
     "text": [
      "[1, 2, 3]\n",
      "['vishal', 5, 4, 3, 2, 1, 0]\n",
      "[5, 3, 1]\n",
      "ish\n"
     ]
    }
   ],
   "source": [
    "l=[0,1,2,3,4,5,'vishal']\n",
    "print(l[1:4])\n",
    "print(l[::-1])\n",
    "print(l[-2::-2])\n",
    "print(l[-1][1:4])"
   ]
  },
  {
   "cell_type": "code",
   "execution_count": 29,
   "metadata": {},
   "outputs": [
    {
     "name": "stdout",
     "output_type": "stream",
     "text": [
      "[[0, 1], [4, 5]]\n",
      "5\n",
      "[[2, 3]]\n",
      "[[4, 5], [2, 3], [0, 1]]\n"
     ]
    }
   ],
   "source": [
    "l=[[0,1],[2,3],[4,5]]\n",
    "print(l[::2])\n",
    "print(l[-1][1])\n",
    "print(l[1::2])\n",
    "print(l[-1::-1])"
   ]
  },
  {
   "cell_type": "code",
   "execution_count": 37,
   "metadata": {},
   "outputs": [
    {
     "name": "stdout",
     "output_type": "stream",
     "text": [
      "[5, 1, 2, 3, 4, 5, 'vishal']\n",
      "[5, 1, 2, 3, 4, 5, '10']\n",
      "[100, 100, 100, 3, 4, 5, '10']\n"
     ]
    }
   ],
   "source": [
    "l=[0,1,2,3,4,5,'vishal']\n",
    "l[0]=5\n",
    "print(l)\n",
    "l[6]='10'\n",
    "print(l)\n",
    "#l[6][0]=\"v\"                           #Type error\n",
    "#print(l)\n",
    "l[0:3]=[100,100,100]\n",
    "print(l)\n",
    "#l[0:3]=100                            #Type error\n",
    "#print(l)"
   ]
  },
  {
   "cell_type": "code",
   "execution_count": 40,
   "metadata": {},
   "outputs": [
    {
     "name": "stdout",
     "output_type": "stream",
     "text": [
      "[0, 1, 2, (1, 2), {1, 2}, {'a': 'b'}]\n",
      "<class 'list'>\n"
     ]
    }
   ],
   "source": [
    "l=[0,1,2,(1,2),{1,2},{'a':'b'}]\n",
    "print(l)\n",
    "print(type(l))"
   ]
  },
  {
   "cell_type": "code",
   "execution_count": 94,
   "metadata": {},
   "outputs": [
    {
     "name": "stdout",
     "output_type": "stream",
     "text": [
      "[0, 1, 2, 3, 4, [1, 2, 3]]\n",
      "[0, 1, 2, 3, 4, [1, 2, 3], 1]\n",
      "[0, 1, 2, 3, 4, [1, 2, 3], 1, {'a': 4}]\n",
      "None\n"
     ]
    }
   ],
   "source": [
    "#To add element in list we use 1.append 2.extend 3.insert\n",
    "l=[0,1,2,3,4]\n",
    "l.append([1,2,3])\n",
    "print(l)\n",
    "#l.append(1,2,3)                 #error\n",
    "l.append(1)\n",
    "print(l)\n",
    "l.append({'a':4})\n",
    "print(l)\n",
    "print(l.append(3))\n",
    "#l.append(1,6)                   #error"
   ]
  },
  {
   "cell_type": "code",
   "execution_count": 97,
   "metadata": {},
   "outputs": [
    {
     "name": "stdout",
     "output_type": "stream",
     "text": [
      "[0, 1, 2, 3, 4, [1, 2, 3], 1, {'a': 4}, 3, 'v', 'i', 's', 'h', 'a', 'l', '1', '0']\n",
      "[0, 1, 2, 3, 4, [1, 2, 3], 1, {'a': 4}, 3, 'v', 'i', 's', 'h', 'a', 'l', '1', '0', '1', ',', '2', ',', '3']\n",
      "[0, 1, 2, 3, 4, [1, 2, 3], 1, {'a': 4}, 3, 'v', 'i', 's', 'h', 'a', 'l', '1', '0', '1', ',', '2', ',', '3', 1, 2, 3]\n",
      "[0, 1, 2, 3, 4, [1, 2, 3], 1, {'a': 4}, 3, 'v', 'i', 's', 'h', 'a', 'l', '1', '0', '1', ',', '2', ',', '3', 1, 2, 3, 1, 2, 4, 5, 6, 7, 8]\n"
     ]
    }
   ],
   "source": [
    "l.extend(\"vishal10\")\n",
    "print(l)\n",
    "#l.extend(1,2,3)                #error\n",
    "l.extend('1,2,3')\n",
    "print(l)\n",
    "l.extend([1,2,3])\n",
    "print(l)\n",
    "l.extend({1,2,4,5,6,7,8})\n",
    "print(l)"
   ]
  },
  {
   "cell_type": "code",
   "execution_count": 100,
   "metadata": {},
   "outputs": [
    {
     "name": "stdout",
     "output_type": "stream",
     "text": [
      "[0, 'vishal', 1, 2, 3, 4]\n",
      "[0, 'vishal', 1, 2, 3, 4, 'byee']\n"
     ]
    }
   ],
   "source": [
    "l=[0,1,2,3,4]\n",
    "l.insert(1,\"vishal\")\n",
    "print(l)\n",
    "l.insert(10,'byee')\n",
    "print(l)"
   ]
  },
  {
   "cell_type": "code",
   "execution_count": 118,
   "metadata": {},
   "outputs": [
    {
     "name": "stdout",
     "output_type": "stream",
     "text": [
      "[1, 2, 3, 4]\n",
      "[1, 2, 3]\n",
      "[1, 3]\n",
      "[]\n",
      "[0, 1, 2, 3, 4]\n",
      "[0, 1, 2, 4]\n"
     ]
    }
   ],
   "source": [
    "#To delete element in list we use 1.del 2.pop 3.remove 4.clear\n",
    "l=[0,1,2,3,4]\n",
    "#del l                             #delete whole list\n",
    "del l[0]\n",
    "print(l)\n",
    "#print(del l[0])                   #error\n",
    "#print(del l(0))                   #error\n",
    "l.pop()\n",
    "print(l)\n",
    "l.pop(1)                           #position\n",
    "print(l)\n",
    "l.clear()\n",
    "print(l)\n",
    "l.extend([0,1,2,3,4])\n",
    "print(l)\n",
    "l.remove(3)                        #element\n",
    "print(l)"
   ]
  },
  {
   "cell_type": "code",
   "execution_count": 123,
   "metadata": {},
   "outputs": [
    {
     "data": {
      "text/plain": [
       "[1, 2, 3, 1, 2, 3, 1, 2, 3]"
      ]
     },
     "execution_count": 123,
     "metadata": {},
     "output_type": "execute_result"
    }
   ],
   "source": [
    "[1,2,3]+[4,5]                         #[1, 2, 3, 4, 5]\n",
    "[1,2,3]*3                             #[1, 2, 3, 1, 2, 3, 1, 2, 3]\n",
    "#[1,2,3]-[1,2]                        #error\n",
    "#[1,2]/[1,2]                          #error"
   ]
  },
  {
   "cell_type": "code",
   "execution_count": 128,
   "metadata": {},
   "outputs": [
    {
     "name": "stdout",
     "output_type": "stream",
     "text": [
      "4\n",
      "4\n",
      "1\n",
      "[1, 2, 3, 4]\n",
      "10\n",
      "[4, 3, 2, 1]\n"
     ]
    }
   ],
   "source": [
    "l=[1,2,3,4]\n",
    "print(len(l))\n",
    "print(max(l))\n",
    "print(min(l))\n",
    "print(sorted(l))\n",
    "print(sum(l))\n",
    "print(sorted(l,reverse=True))"
   ]
  },
  {
   "cell_type": "code",
   "execution_count": 146,
   "metadata": {},
   "outputs": [
    {
     "name": "stdout",
     "output_type": "stream",
     "text": [
      "Enter list : [5,2,4,7,1,3,5,8,3,6]\n",
      "21\n"
     ]
    }
   ],
   "source": [
    "l = eval(input(\"Enter list : \"))\n",
    "c=[1]*len(l)\n",
    "for i in range(len(l)-1):\n",
    "    if l[i]>l[i-1]:\n",
    "        c[i] += 1\n",
    "    else:\n",
    "        continue\n",
    "for i in range(len(l)-1,-1,-1):\n",
    "    if l[i]>l[i-1]:\n",
    "        c[i] += 1\n",
    "    else: \n",
    "        continue\n",
    "        \n",
    "total = 0\n",
    "for i in c:\n",
    "    total += i\n",
    "print(total)"
   ]
  }
 ],
 "metadata": {
  "kernelspec": {
   "display_name": "Python 3",
   "language": "python",
   "name": "python3"
  },
  "language_info": {
   "codemirror_mode": {
    "name": "ipython",
    "version": 3
   },
   "file_extension": ".py",
   "mimetype": "text/x-python",
   "name": "python",
   "nbconvert_exporter": "python",
   "pygments_lexer": "ipython3",
   "version": "3.8.5"
  }
 },
 "nbformat": 4,
 "nbformat_minor": 4
}
