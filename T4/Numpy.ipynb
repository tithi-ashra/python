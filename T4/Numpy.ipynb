{
 "cells": [
  {
   "cell_type": "markdown",
   "metadata": {},
   "source": [
    "# Numpy\n",
    "  python module or library\n",
    "# Types are :- 1:np.array 2:np.array with dtype 3:np.arange(with reshape) 4:np.random 5:np.ones 6:np.zeros 7:np.linspace 8:np.identity\n",
    "\n",
    "# Methods are :- 1.min 2.max 3.sum 4.prod 5.sort 6.concatenate 7.where"
   ]
  },
  {
   "cell_type": "markdown",
   "metadata": {},
   "source": [
    "# Array Attributes\n",
    "# Types are :- 1.ndim 2.shape 3.size 4.itemsize 5.dtype\n",
    "    \n",
    "# Indexing and Slicing\n",
    "\n",
    "# Array Operations\n",
    "# Types are :- 1.reshape 2.scalaroperations 3.relational 4.vectoroperations\n",
    "\n",
    "# Methods are :- 1._split 2.broadcast "
   ]
  },
  {
   "cell_type": "code",
   "execution_count": 32,
   "metadata": {},
   "outputs": [
    {
     "name": "stdout",
     "output_type": "stream",
     "text": [
      "[1 2 3 4]\n",
      "<class 'numpy.ndarray'>\n",
      "[[1 2]\n",
      " [3 4]]\n",
      "[[[1 2 3]\n",
      "  [4 5 6]]]\n",
      "['1' '2' '3' '4']\n",
      "[ 1  2  3  4  5  6  7  8  9 10]\n",
      "[10  9  8  7  6  5  4  3  2  1]\n",
      "[[ 1  2  3]\n",
      " [ 4  5  6]\n",
      " [ 7  8  9]\n",
      " [10 11 12]]\n",
      "[[ 1  2]\n",
      " [ 3  4]\n",
      " [ 5  6]\n",
      " [ 7  8]\n",
      " [ 9 10]\n",
      " [11 12]\n",
      " [13 14]]\n",
      "[[0.19742657 0.38645796 0.07932209 0.58196875]\n",
      " [0.48759077 0.3540787  0.85448644 0.04016596]\n",
      " [0.47686152 0.08416265 0.88451498 0.64819133]]\n",
      "[0 4]\n",
      "[[1. 1. 1. 1.]\n",
      " [1. 1. 1. 1.]\n",
      " [1. 1. 1. 1.]]\n",
      "[[0. 0. 0.]\n",
      " [0. 0. 0.]\n",
      " [0. 0. 0.]\n",
      " [0. 0. 0.]]\n",
      "[[1. 0. 0.]\n",
      " [0. 1. 0.]\n",
      " [0. 0. 1.]]\n",
      "[-100  -78  -56  -34  -12   11   33   55   77  100]\n"
     ]
    }
   ],
   "source": [
    "import numpy as np\n",
    "a = np.array([1,2,3,4])\n",
    "print(a)\n",
    "print(type(a))\n",
    "b = np.array([[1,2],[3,4]])\n",
    "print(b)\n",
    "c = np.array([[[1,2,3],[4,5,6]]])\n",
    "print(c)\n",
    "\n",
    "d = np.array([1,2,3,4],dtype='str')\n",
    "print(d)\n",
    "\n",
    "e = np.arange(1,11)\n",
    "print(e)\n",
    "f = np.arange(10,0,-1)\n",
    "print(f)\n",
    "\n",
    "g = np.arange(1,13).reshape(4,3)\n",
    "print(g)\n",
    "h = np.arange(1,15).reshape(7,2)\n",
    "print(h)                                  #not possible it will give ValueError\n",
    "\n",
    "i = np.random.random((3,4))\n",
    "print(i)\n",
    "j = np.random.randint((2,10))\n",
    "print(j)\n",
    "\n",
    "k = np.ones((3,4))\n",
    "print(k)\n",
    "l = np.zeros((4,3))\n",
    "print(l)\n",
    "\n",
    "m = np.identity(3)\n",
    "print(m)\n",
    "\n",
    "n = np.linspace(-100,100,10,dtype=\"int\")\n",
    "print(n)"
   ]
  },
  {
   "cell_type": "code",
   "execution_count": 25,
   "metadata": {},
   "outputs": [
    {
     "name": "stdout",
     "output_type": "stream",
     "text": [
      "[ 1  2  3  4  5  6  7  8  9 10 11 12]\n",
      "\n",
      "[[ 1  2  3]\n",
      " [ 4  5  6]\n",
      " [ 7  8  9]\n",
      " [10 11 12]]\n",
      "\n",
      "[[[ 1  2  3]\n",
      "  [ 4  5  6]]\n",
      "\n",
      " [[ 7  8  9]\n",
      "  [10 11 12]]]\n",
      "\n",
      "1 12 4 int32\n",
      "(12,)\n",
      "\n",
      "2 12 4 int32\n",
      "(4, 3)\n",
      "\n",
      "3 12 4 int32\n",
      "(2, 2, 3)\n"
     ]
    }
   ],
   "source": [
    "import numpy as np\n",
    "a = np.arange(1,13)\n",
    "b = np.arange(1,13).reshape(4,3)\n",
    "c = np.arange(1,13).reshape(2,2,3)\n",
    "print(a)\n",
    "print()\n",
    "print(b)\n",
    "print()\n",
    "print(c)\n",
    "print()\n",
    "print(a.ndim,a.size,a.itemsize,a.dtype)\n",
    "print(a.shape)\n",
    "print()\n",
    "print(b.ndim,b.size,b.itemsize,b.dtype)\n",
    "print(b.shape)\n",
    "print()\n",
    "print(c.ndim,c.size,c.itemsize,c.dtype)\n",
    "print(c.shape)"
   ]
  },
  {
   "cell_type": "code",
   "execution_count": 47,
   "metadata": {},
   "outputs": [
    {
     "name": "stdout",
     "output_type": "stream",
     "text": [
      "5\n",
      "5\n",
      "[4 5 6 7 8 9]\n",
      "[12 11 10  9  8  7  6  5  4  3  2  1]\n",
      "[ 2  4  6  8 10 12]\n",
      "[ 6  8 10 12]\n",
      "[ 3  8 10]\n",
      "\n",
      "7\n",
      "7\n",
      "[[12 11 10  9]\n",
      " [ 8  7  6  5]\n",
      " [ 4  3  2  1]]\n",
      "[[ 1  4]\n",
      " [ 9 12]]\n",
      "[[1]\n",
      " [9]]\n",
      "[[ 1  3  4]\n",
      " [ 9 11 12]]\n",
      "\n",
      "7\n",
      "7\n",
      "[[[12 11 10]\n",
      "  [ 9  8  7]]\n",
      "\n",
      " [[ 6  5  4]\n",
      "  [ 3  2  1]]]\n",
      "[[1 2 3]\n",
      " [7 8 9]]\n"
     ]
    }
   ],
   "source": [
    "a = np.array([1,2,3,4,5,6,7,8,9,10,11,12])\n",
    "print(a[4])\n",
    "print(a[-8])\n",
    "print(a[3:9])\n",
    "print(a[::-1])\n",
    "#fancy indexing\n",
    "print(a[a%2==0])\n",
    "print(a[(a%2==0)&(a>5)])\n",
    "print(a[[2,7,9]])\n",
    "print()\n",
    "\n",
    "b = np.arange(1,13).reshape(3,4)\n",
    "print(b[1,2])\n",
    "print(b[-2,-2])\n",
    "print(b[::-1,::-1])\n",
    "print(b[::2,::3])\n",
    "print(b[::2,::4])\n",
    "print(b[::2,[0,2,3]])\n",
    "print()\n",
    "\n",
    "c = np.arange(1,13).reshape(2,2,3)\n",
    "print(c[1,0,0])\n",
    "print(c[-1,-2,-3])\n",
    "print(c[::-1,::-1,::-1])\n",
    "print(c[:,0,:])"
   ]
  },
  {
   "cell_type": "code",
   "execution_count": 53,
   "metadata": {},
   "outputs": [
    {
     "name": "stdout",
     "output_type": "stream",
     "text": [
      "[[ 1  2  3  4]\n",
      " [ 5  6  7  8]\n",
      " [ 9 10 11 12]]\n",
      "\n",
      "[[ 3  4  5  6]\n",
      " [ 7  8  9 10]\n",
      " [11 12 13 14]]\n",
      "\n",
      "[[-1  0  1  2]\n",
      " [ 3  4  5  6]\n",
      " [ 7  8  9 10]]\n",
      "\n",
      "[[ 2  4  6  8]\n",
      " [10 12 14 16]\n",
      " [18 20 22 24]]\n",
      "\n",
      "[[0.5 1.  1.5 2. ]\n",
      " [2.5 3.  3.5 4. ]\n",
      " [4.5 5.  5.5 6. ]]\n",
      "\n",
      "[[0 1 1 2]\n",
      " [2 3 3 4]\n",
      " [4 5 5 6]]\n",
      "\n",
      "[[1 0 1 0]\n",
      " [1 0 1 0]\n",
      " [1 0 1 0]]\n",
      "\n",
      "[[  1   4   9  16]\n",
      " [ 25  36  49  64]\n",
      " [ 81 100 121 144]]\n"
     ]
    }
   ],
   "source": [
    "#Scalar Opeartion\n",
    "a = np.arange(1,13).reshape(3,4)\n",
    "print(a)\n",
    "print()\n",
    "print(a+2)\n",
    "print()\n",
    "print(a-2)\n",
    "print()\n",
    "print(a*2)\n",
    "print()\n",
    "print(a/2)\n",
    "print()\n",
    "print(a//2)\n",
    "print()\n",
    "print(a%2)\n",
    "print()\n",
    "print(a**2)"
   ]
  },
  {
   "cell_type": "code",
   "execution_count": 55,
   "metadata": {},
   "outputs": [
    {
     "name": "stdout",
     "output_type": "stream",
     "text": [
      "[[ 1  2  3  4]\n",
      " [ 5  6  7  8]\n",
      " [ 9 10 11 12]]\n",
      "[[ 1  2  3  4]\n",
      " [ 5  6  7  8]\n",
      " [ 9 10 11 12]]\n",
      "\n",
      "[[ 2  4  6  8]\n",
      " [10 12 14 16]\n",
      " [18 20 22 24]]\n",
      "\n",
      "[[0 0 0 0]\n",
      " [0 0 0 0]\n",
      " [0 0 0 0]]\n",
      "\n",
      "[[  1   4   9  16]\n",
      " [ 25  36  49  64]\n",
      " [ 81 100 121 144]]\n",
      "\n",
      "[[1. 1. 1. 1.]\n",
      " [1. 1. 1. 1.]\n",
      " [1. 1. 1. 1.]]\n",
      "\n",
      "[[1 1 1 1]\n",
      " [1 1 1 1]\n",
      " [1 1 1 1]]\n",
      "\n",
      "[[0 0 0 0]\n",
      " [0 0 0 0]\n",
      " [0 0 0 0]]\n",
      "\n",
      "[[         1          4         27        256]\n",
      " [      3125      46656     823543   16777216]\n",
      " [ 387420489 1410065408 1843829075 -251658240]]\n"
     ]
    }
   ],
   "source": [
    "#Vector Operation(Arithmetic)\n",
    "b = np.arange(1,13).reshape(3,4)\n",
    "print(a)\n",
    "print(b)\n",
    "print()\n",
    "print(a+b)\n",
    "print()\n",
    "print(a-b)\n",
    "print()\n",
    "print(a*b)\n",
    "print()\n",
    "print(a/b)\n",
    "print()\n",
    "print(a//b)\n",
    "print()\n",
    "print(a%b)\n",
    "print()\n",
    "print(a**b)"
   ]
  },
  {
   "cell_type": "code",
   "execution_count": 75,
   "metadata": {},
   "outputs": [
    {
     "name": "stdout",
     "output_type": "stream",
     "text": [
      "[[1030 1088 1146]\n",
      " [1310 1384 1458]\n",
      " [1590 1680 1770]]\n"
     ]
    }
   ],
   "source": [
    "b = np.arange(13,25).reshape(4,3)\n",
    "c = np.dot(a,b)  #3x4 and 4x3\n",
    "print(c)"
   ]
  },
  {
   "cell_type": "code",
   "execution_count": 76,
   "metadata": {},
   "outputs": [
    {
     "name": "stdout",
     "output_type": "stream",
     "text": [
      "[[False False  True False]\n",
      " [False False False False]\n",
      " [False False False False]]\n",
      "[[ True  True  True  True]\n",
      " [ True  True  True  True]\n",
      " [ True  True  True  True]]\n"
     ]
    }
   ],
   "source": [
    "#Relational\n",
    "print(a==15)\n",
    "print(a>5)\n",
    "#print(a>b)\n",
    "#print(a<b)"
   ]
  },
  {
   "cell_type": "code",
   "execution_count": 85,
   "metadata": {},
   "outputs": [
    {
     "name": "stdout",
     "output_type": "stream",
     "text": [
      "[[68 74 91 73]\n",
      " [38 81 82 59]\n",
      " [27 73 44 73]]\n",
      "27\n",
      "[27 73 44 59]\n",
      "[68 38 27]\n",
      "[[68 38 27]]\n",
      "\n",
      "91\n",
      "[68 81 91 73]\n",
      "[91 82 73]\n",
      "\n",
      "783\n",
      "[133 228 217 205]\n",
      "[306 260 217]\n"
     ]
    }
   ],
   "source": [
    "#Methods\n",
    "x = np.random.randint(1,100,size=(3,4))\n",
    "print(x)\n",
    "print(np.min(x))\n",
    "print(np.min(x,axis=0))\n",
    "print(np.min(x,axis=1))\n",
    "print(np.min(x,axis=1).reshape(-1,3))   #if both (-1,-1) then ValueError otherwise 1stx2nd\n",
    "print()\n",
    "\n",
    "print(np.max(x))\n",
    "print(np.max(x,axis=0))\n",
    "print(np.max(x,axis=1))\n",
    "print()\n",
    "\n",
    "print(np.sum(x))\n",
    "print(np.sum(x,axis=0))\n",
    "print(np.sum(x,axis=1))"
   ]
  },
  {
   "cell_type": "code",
   "execution_count": 83,
   "metadata": {},
   "outputs": [
    {
     "name": "stdout",
     "output_type": "stream",
     "text": [
      "421\n"
     ]
    }
   ],
   "source": [
    "s=0\n",
    "for i in x:\n",
    "    for j in i:\n",
    "        s += j\n",
    "print(s)"
   ]
  },
  {
   "cell_type": "code",
   "execution_count": 92,
   "metadata": {},
   "outputs": [
    {
     "name": "stdout",
     "output_type": "stream",
     "text": [
      "[[1 2 3]\n",
      " [4 5 6]\n",
      " [7 8 9]\n",
      " [1 2 3]\n",
      " [4 5 6]\n",
      " [7 8 9]]\n",
      "[[1 2 3]\n",
      " [1 2 3]\n",
      " [4 5 6]\n",
      " [4 5 6]\n",
      " [7 8 9]\n",
      " [7 8 9]]\n",
      "[[1 2 3]\n",
      " [4 5 6]\n",
      " [7 8 9]\n",
      " [1 2 3]\n",
      " [4 5 6]\n",
      " [7 8 9]]\n",
      "\n",
      "[0 3 1 4 2 5]\n"
     ]
    }
   ],
   "source": [
    "print(np.sort(x))\n",
    "print(np.sort(x,axis=0))\n",
    "print(np.sort(x,axis=1))\n",
    "print()\n",
    "\n",
    "print(np.argsort(x[:,-1]))              #give index"
   ]
  },
  {
   "cell_type": "code",
   "execution_count": 93,
   "metadata": {},
   "outputs": [
    {
     "name": "stdout",
     "output_type": "stream",
     "text": [
      "[[1 2 3]\n",
      " [4 5 6]\n",
      " [7 8 9]]\n",
      "[[1 2 3]\n",
      " [4 5 6]\n",
      " [7 8 9]]\n",
      "[[1 2 3]\n",
      " [4 5 6]\n",
      " [7 8 9]\n",
      " [1 2 3]\n",
      " [4 5 6]\n",
      " [7 8 9]]\n",
      "[[1 2 3 1 2 3]\n",
      " [4 5 6 4 5 6]\n",
      " [7 8 9 7 8 9]]\n"
     ]
    }
   ],
   "source": [
    "a = np.arange(1,10).reshape(3,3)\n",
    "b = np.arange(1,10).reshape(3,3)\n",
    "x = np.concatenate((a,b),axis=0)\n",
    "y = np.concatenate((a,b),axis=1)\n",
    "print(a)\n",
    "print(b)\n",
    "print(x)\n",
    "print(y)"
   ]
  },
  {
   "cell_type": "code",
   "execution_count": 6,
   "metadata": {},
   "outputs": [
    {
     "name": "stdout",
     "output_type": "stream",
     "text": [
      "(array([0, 0, 1, 1, 1, 2, 2], dtype=int64), array([0, 2, 1, 2, 3, 1, 3], dtype=int64))\n",
      "[[1 0 1 0]\n",
      " [0 1 1 1]\n",
      " [0 1 0 1]]\n",
      "[[1 0 1 0]\n",
      " [0 2 1 1]\n",
      " [0 2 0 1]]\n"
     ]
    }
   ],
   "source": [
    "import numpy as np\n",
    "a = np.random.randint(1,100,size=(3,4))    \n",
    "print(np.where(a>50))                        #give index\n",
    "print(np.where(a>50,1,0))                    #binary array\n",
    "print(np.where(a>70,1,np.where(a>50,2,0)))"
   ]
  },
  {
   "cell_type": "code",
   "execution_count": 8,
   "metadata": {},
   "outputs": [
    {
     "name": "stdout",
     "output_type": "stream",
     "text": [
      "[array([1, 2, 3]), array([4, 5, 6]), array([7, 8, 9])]\n",
      "\n",
      "[array([1, 2]), array([3, 4]), array([5, 6]), array([7, 8]), array([9])]\n"
     ]
    }
   ],
   "source": [
    "from numpy import array, array_split\n",
    "first_array = array([1, 2, 3, 4, 5, 6, 7, 8, 9])\n",
    "my_array = array_split(first_array, 3)\n",
    "print(my_array)\n",
    "print()\n",
    "\n",
    "first_array = array([1, 2, 3, 4, 5, 6, 7, 8, 9])\n",
    "my_array = array_split(first_array, 5)\n",
    "print(my_array)"
   ]
  }
 ],
 "metadata": {
  "kernelspec": {
   "display_name": "Python 3",
   "language": "python",
   "name": "python3"
  },
  "language_info": {
   "codemirror_mode": {
    "name": "ipython",
    "version": 3
   },
   "file_extension": ".py",
   "mimetype": "text/x-python",
   "name": "python",
   "nbconvert_exporter": "python",
   "pygments_lexer": "ipython3",
   "version": "3.8.5"
  }
 },
 "nbformat": 4,
 "nbformat_minor": 4
}
