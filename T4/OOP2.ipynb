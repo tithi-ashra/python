{
 "cells": [
  {
   "cell_type": "markdown",
   "metadata": {},
   "source": [
    "# Composition\n",
    "# Aggregation\n",
    "# Inheritace\n",
    "# Types are :- \n",
    "# 1.Single 2.Multilevel 3.Multiple 4.Hierachical 5.Hybrid"
   ]
  },
  {
   "cell_type": "markdown",
   "metadata": {},
   "source": [
    "# Constructor Overriding\n",
    "   can't access private variable and methods\n",
    "# Super Keyword (super())\n",
    "   it's used to call parent class constructor or methods"
   ]
  },
  {
   "cell_type": "markdown",
   "metadata": {},
   "source": [
    "# MRO(Method Resolution Order)\n",
    "  it happened in multiple inheritance"
   ]
  },
  {
   "cell_type": "code",
   "execution_count": 7,
   "metadata": {},
   "outputs": [
    {
     "name": "stdout",
     "output_type": "stream",
     "text": [
      "Child class method\n",
      "Father class method\n",
      "7\n"
     ]
    }
   ],
   "source": [
    "class father:\n",
    "    def __init__(self,number):\n",
    "        self.number = number\n",
    "    def display(self):\n",
    "        print(\"Father class method\")\n",
    "        \n",
    "class child(father):\n",
    "    def __init__(self,mark):\n",
    "        self.mark = mark\n",
    "    def show(self):\n",
    "        print(\"Child class method\")\n",
    "        \n",
    "obj = child(7)\n",
    "print(obj.mark)\n",
    "obj.show()\n",
    "obj.display()\n",
    "#print(obj.number)                           #AttributeError\n",
    "#print(obj.number)                           #if we comment out the child init then it will go to father init"
   ]
  },
  {
   "cell_type": "code",
   "execution_count": 8,
   "metadata": {},
   "outputs": [
    {
     "name": "stdout",
     "output_type": "stream",
     "text": [
      "Child class method\n",
      "7\n"
     ]
    }
   ],
   "source": [
    "class father:\n",
    "    age = 7\n",
    "    def __init__(self,number):\n",
    "        self.number = number\n",
    "    def display(self):\n",
    "        print(\"Father class method\")\n",
    "        \n",
    "class child(father):\n",
    "    def __init__(self,mark):\n",
    "        self.mark = mark\n",
    "    def show(self):\n",
    "        print(\"Child class method\")\n",
    "        print(self.age)\n",
    "        \n",
    "ob = child(4)\n",
    "ob.show()"
   ]
  },
  {
   "cell_type": "code",
   "execution_count": 9,
   "metadata": {},
   "outputs": [
    {
     "name": "stdout",
     "output_type": "stream",
     "text": [
      "Child class method\n"
     ]
    }
   ],
   "source": [
    "class father:\n",
    "    def __init__(self,number):\n",
    "        self.number = number\n",
    "    def display(self):\n",
    "        print(\"Father class method\")\n",
    "        \n",
    "class child(father):\n",
    "    def __init__(self,mark):\n",
    "        self.mark = mark\n",
    "    def display(self):\n",
    "        print(\"Child class method\")\n",
    "        \n",
    "ob = child(4)\n",
    "ob.display()"
   ]
  },
  {
   "cell_type": "code",
   "execution_count": 11,
   "metadata": {},
   "outputs": [
    {
     "ename": "TypeError",
     "evalue": "__init__() missing 1 required positional argument: 'number'",
     "output_type": "error",
     "traceback": [
      "\u001b[1;31m---------------------------------------------------------------------------\u001b[0m",
      "\u001b[1;31mTypeError\u001b[0m                                 Traceback (most recent call last)",
      "\u001b[1;32m<ipython-input-11-c6e127b8d23a>\u001b[0m in \u001b[0;36m<module>\u001b[1;34m\u001b[0m\n\u001b[0;32m      9\u001b[0m         \u001b[0mprint\u001b[0m\u001b[1;33m(\u001b[0m\u001b[1;34m\"Child class method\"\u001b[0m\u001b[1;33m)\u001b[0m\u001b[1;33m\u001b[0m\u001b[1;33m\u001b[0m\u001b[0m\n\u001b[0;32m     10\u001b[0m \u001b[1;33m\u001b[0m\u001b[0m\n\u001b[1;32m---> 11\u001b[1;33m \u001b[0mob\u001b[0m \u001b[1;33m=\u001b[0m \u001b[0mchild\u001b[0m\u001b[1;33m(\u001b[0m\u001b[1;33m)\u001b[0m\u001b[1;33m\u001b[0m\u001b[1;33m\u001b[0m\u001b[0m\n\u001b[0m",
      "\u001b[1;31mTypeError\u001b[0m: __init__() missing 1 required positional argument: 'number'"
     ]
    }
   ],
   "source": [
    "class father:\n",
    "    def __init__(self,number):\n",
    "        self.number = number\n",
    "    def display(self):\n",
    "        print(\"Father class method\")\n",
    "        \n",
    "class child(father):\n",
    "    def show(self):\n",
    "        print(\"Child class method\")\n",
    "        \n",
    "#ob = child()                    #TypeError: __init__() missing 1 required positional argument: 'number'"
   ]
  },
  {
   "cell_type": "code",
   "execution_count": 12,
   "metadata": {},
   "outputs": [
    {
     "name": "stdout",
     "output_type": "stream",
     "text": [
      "Child class method\n"
     ]
    },
    {
     "ename": "AttributeError",
     "evalue": "'child' object has no attribute '_child__number'",
     "output_type": "error",
     "traceback": [
      "\u001b[1;31m---------------------------------------------------------------------------\u001b[0m",
      "\u001b[1;31mAttributeError\u001b[0m                            Traceback (most recent call last)",
      "\u001b[1;32m<ipython-input-12-f21638127fcc>\u001b[0m in \u001b[0;36m<module>\u001b[1;34m\u001b[0m\n\u001b[0;32m     13\u001b[0m \u001b[1;33m\u001b[0m\u001b[0m\n\u001b[0;32m     14\u001b[0m \u001b[0mob\u001b[0m \u001b[1;33m=\u001b[0m \u001b[0mchild\u001b[0m\u001b[1;33m(\u001b[0m\u001b[1;36m4\u001b[0m\u001b[1;33m)\u001b[0m\u001b[1;33m\u001b[0m\u001b[1;33m\u001b[0m\u001b[0m\n\u001b[1;32m---> 15\u001b[1;33m \u001b[0mob\u001b[0m\u001b[1;33m.\u001b[0m\u001b[0mdisplay\u001b[0m\u001b[1;33m(\u001b[0m\u001b[1;33m)\u001b[0m\u001b[1;33m\u001b[0m\u001b[1;33m\u001b[0m\u001b[0m\n\u001b[0m",
      "\u001b[1;32m<ipython-input-12-f21638127fcc>\u001b[0m in \u001b[0;36mdisplay\u001b[1;34m(self)\u001b[0m\n\u001b[0;32m     10\u001b[0m     \u001b[1;32mdef\u001b[0m \u001b[0mdisplay\u001b[0m\u001b[1;33m(\u001b[0m\u001b[0mself\u001b[0m\u001b[1;33m)\u001b[0m\u001b[1;33m:\u001b[0m\u001b[1;33m\u001b[0m\u001b[1;33m\u001b[0m\u001b[0m\n\u001b[0;32m     11\u001b[0m         \u001b[0mprint\u001b[0m\u001b[1;33m(\u001b[0m\u001b[1;34m\"Child class method\"\u001b[0m\u001b[1;33m)\u001b[0m\u001b[1;33m\u001b[0m\u001b[1;33m\u001b[0m\u001b[0m\n\u001b[1;32m---> 12\u001b[1;33m         \u001b[0mprint\u001b[0m\u001b[1;33m(\u001b[0m\u001b[0mself\u001b[0m\u001b[1;33m.\u001b[0m\u001b[0m__number\u001b[0m\u001b[1;33m)\u001b[0m\u001b[1;33m\u001b[0m\u001b[1;33m\u001b[0m\u001b[0m\n\u001b[0m\u001b[0;32m     13\u001b[0m \u001b[1;33m\u001b[0m\u001b[0m\n\u001b[0;32m     14\u001b[0m \u001b[0mob\u001b[0m \u001b[1;33m=\u001b[0m \u001b[0mchild\u001b[0m\u001b[1;33m(\u001b[0m\u001b[1;36m4\u001b[0m\u001b[1;33m)\u001b[0m\u001b[1;33m\u001b[0m\u001b[1;33m\u001b[0m\u001b[0m\n",
      "\u001b[1;31mAttributeError\u001b[0m: 'child' object has no attribute '_child__number'"
     ]
    }
   ],
   "source": [
    "class father:\n",
    "    def __init__(self,number):\n",
    "        self.__number = number\n",
    "    def display(self):\n",
    "        print(\"Father class method\")\n",
    "        \n",
    "class child(father):\n",
    "    def __init__(self,mark):\n",
    "        self.mark = mark\n",
    "    def display(self):\n",
    "        print(\"Child class method\")\n",
    "        print(self.__number)\n",
    "        \n",
    "ob = child(4)\n",
    "ob.display()                            #AttributeError: 'child' object has no attribute '_child__number'"
   ]
  },
  {
   "cell_type": "code",
   "execution_count": 15,
   "metadata": {},
   "outputs": [
    {
     "name": "stdout",
     "output_type": "stream",
     "text": [
      "Grandson class method\n",
      "Son class method\n",
      "Father class method\n",
      "3\n"
     ]
    }
   ],
   "source": [
    "class father:\n",
    "    def __init__(self,m):\n",
    "        self.m = m\n",
    "    def display(self):\n",
    "        print(\"Father class method\")\n",
    "class son(father):\n",
    "    def show(self):\n",
    "        print(\"Son class method\")\n",
    "class grandson(son):\n",
    "    def dis(self):\n",
    "        print(\"Grandson class method\")\n",
    "        \n",
    "obj = grandson(3)\n",
    "obj.dis()\n",
    "obj.show()\n",
    "obj.display()\n",
    "print(obj.m)"
   ]
  },
  {
   "cell_type": "code",
   "execution_count": 16,
   "metadata": {},
   "outputs": [
    {
     "name": "stdout",
     "output_type": "stream",
     "text": [
      "Grandson class method\n",
      "5\n"
     ]
    }
   ],
   "source": [
    "class father:\n",
    "    def __init__(self,m):\n",
    "        self.m = m\n",
    "        self.age += 5\n",
    "    def display(self):\n",
    "        print(\"Father class method\")\n",
    "class son(father):\n",
    "    age = 5\n",
    "    def show(self):\n",
    "        print(\"Son class method\")\n",
    "class grandson(son):\n",
    "    def dis(self):\n",
    "        print(\"Grandson class method\")\n",
    "        print(grandson.age)\n",
    "        \n",
    "o = grandson(2)\n",
    "o.dis()"
   ]
  },
  {
   "cell_type": "code",
   "execution_count": 19,
   "metadata": {},
   "outputs": [
    {
     "name": "stdout",
     "output_type": "stream",
     "text": [
      "vishal10hii\n",
      "vha10hello\n"
     ]
    },
    {
     "ename": "AttributeError",
     "evalue": "'father' object has no attribute 'display'",
     "output_type": "error",
     "traceback": [
      "\u001b[1;31m---------------------------------------------------------------------------\u001b[0m",
      "\u001b[1;31mAttributeError\u001b[0m                            Traceback (most recent call last)",
      "\u001b[1;32m<ipython-input-19-8cdfaf9ef951>\u001b[0m in \u001b[0;36m<module>\u001b[1;34m\u001b[0m\n\u001b[0;32m     14\u001b[0m \u001b[0mobj2\u001b[0m\u001b[1;33m.\u001b[0m\u001b[0mdisplay\u001b[0m\u001b[1;33m(\u001b[0m\u001b[1;33m)\u001b[0m\u001b[1;33m\u001b[0m\u001b[1;33m\u001b[0m\u001b[0m\n\u001b[0;32m     15\u001b[0m \u001b[0mf\u001b[0m \u001b[1;33m=\u001b[0m \u001b[0mfather\u001b[0m\u001b[1;33m(\u001b[0m\u001b[1;34m'ver'\u001b[0m\u001b[1;33m)\u001b[0m\u001b[1;33m\u001b[0m\u001b[1;33m\u001b[0m\u001b[0m\n\u001b[1;32m---> 16\u001b[1;33m \u001b[0mf\u001b[0m\u001b[1;33m.\u001b[0m\u001b[0mdisplay\u001b[0m\u001b[1;33m(\u001b[0m\u001b[1;33m)\u001b[0m\u001b[1;33m\u001b[0m\u001b[1;33m\u001b[0m\u001b[0m\n\u001b[0m",
      "\u001b[1;31mAttributeError\u001b[0m: 'father' object has no attribute 'display'"
     ]
    }
   ],
   "source": [
    "class father:\n",
    "    def __init__(self,name):\n",
    "        self.name = name\n",
    "class child1(father):\n",
    "    def display(self):\n",
    "        print(self.name+\"hii\")\n",
    "class child2(father):\n",
    "    def display(self):\n",
    "        print(self.name+\"hello\")\n",
    "        \n",
    "obj1 = child1('vishal10')\n",
    "obj2 = child2('vha10')\n",
    "obj1.display()\n",
    "obj2.display()\n",
    "f = father('ver')\n",
    "#f.display()                        #AttributeError: 'father' object has no attribute 'display'"
   ]
  },
  {
   "cell_type": "code",
   "execution_count": 21,
   "metadata": {},
   "outputs": [
    {
     "name": "stdout",
     "output_type": "stream",
     "text": [
      "gc\n",
      "child\n",
      "father\n"
     ]
    }
   ],
   "source": [
    "class father:\n",
    "    def v(self):\n",
    "        print('father')\n",
    "class child(father):\n",
    "    def v(self):\n",
    "        print('child')\n",
    "        super().v()\n",
    "class gc(child):\n",
    "    def v(self):\n",
    "        print('gc')\n",
    "        super().v()\n",
    "        \n",
    "ob = gc()\n",
    "ob.v()"
   ]
  },
  {
   "cell_type": "code",
   "execution_count": 22,
   "metadata": {},
   "outputs": [
    {
     "name": "stdout",
     "output_type": "stream",
     "text": [
      "[<class '__main__.E'>, <class '__main__.D'>, <class '__main__.C'>, <class '__main__.B'>, <class '__main__.A'>, <class 'object'>]\n"
     ]
    }
   ],
   "source": [
    "class A:pass\n",
    "class B(A): pass\n",
    "class C(B):pass\n",
    "class D(C):pass\n",
    "class E(D):pass\n",
    "obj = E()\n",
    "print(E.mro())"
   ]
  },
  {
   "cell_type": "markdown",
   "metadata": {},
   "source": [
    "# Polymorphism\n",
    "# Types are :- 1.Duck typing(error)  2.Method Overriding(also in child) 3.Method Overloading(not supported)  4.Operator Overloading\n",
    "# Magic Methods\n",
    "# Types are :- 1.__add__ 2.__sub__ 3.__mul__ 4.__truediv__ 5.__floordiv__ 6.__mod__ 7.__pow__ 8.__lt__ 9.__gt__ 10.__le__ 11.__ge__ 12.__eq__ 13.__ne__\n",
    "# Abstraction \n",
    "   data hiding\n",
    "# need to import module abc,abstractmethod and implement abstract class to simple class"
   ]
  },
  {
   "cell_type": "markdown",
   "metadata": {},
   "source": []
  },
  {
   "cell_type": "code",
   "execution_count": 2,
   "metadata": {},
   "outputs": [
    {
     "name": "stdout",
     "output_type": "stream",
     "text": [
      "r\n"
     ]
    }
   ],
   "source": [
    "class animal:\n",
    "    def talk(self,x,y):\n",
    "        print('q ')\n",
    "    def talk(self,x):\n",
    "        print('r')\n",
    "        \n",
    "obj = animal()\n",
    "obj.talk(3)\n",
    "#obj.talk(4,5)               #TypeError: talk() takes 2 positional arguments but 3 were given"
   ]
  },
  {
   "cell_type": "code",
   "execution_count": 5,
   "metadata": {},
   "outputs": [
    {
     "name": "stdout",
     "output_type": "stream",
     "text": [
      "10\n",
      "<__main__.Animal object at 0x0000021666567BB0> <__main__.Animal object at 0x0000021666567DC0>\n"
     ]
    }
   ],
   "source": [
    "class Animal:\n",
    "    def __init__(self,x):\n",
    "        self.x = x\n",
    "    def __add__(self,other):\n",
    "        return self.x+other.x\n",
    "    \n",
    "obj1 = Animal(3)\n",
    "obj2 = Animal(7)\n",
    "print(obj1+obj2)\n",
    "print(obj1,obj2)"
   ]
  },
  {
   "cell_type": "code",
   "execution_count": 16,
   "metadata": {},
   "outputs": [
    {
     "name": "stdout",
     "output_type": "stream",
     "text": [
      "Fraction(Add) of  3/5 + 5/7 is :  46/35\n",
      "Fraction(Sub) of  3/5 + 5/7 is :  -4/35\n",
      "Fraction(mul) of  3/5 + 5/7 is :  15/35\n",
      "Fraction(div) of  3/5 + 5/7 is :  25/21\n"
     ]
    }
   ],
   "source": [
    "class Fraction:\n",
    "    def __init__(self,x,y):\n",
    "        self.x = x\n",
    "        self.y = y\n",
    "    def __str__(self):\n",
    "        return \"{}/{}\".format(self.x,self.y)\n",
    "    def __add__(self,other):\n",
    "        num = (self.x*other.y)+(self.y*other.x)\n",
    "        dem = self.y*other.y\n",
    "        return \"{}/{}\".format(num,dem)\n",
    "    def __sub__(self,other):\n",
    "        num = (self.x*other.y)-(self.y*other.x)\n",
    "        dem = self.y*other.y\n",
    "        return \"{}/{}\".format(num,dem)\n",
    "    def __mul__(self,other):\n",
    "        num = (self.x*other.x)\n",
    "        dem = self.y*other.y\n",
    "        return \"{}/{}\".format(num,dem)\n",
    "    def __truediv__(self,other):\n",
    "        num = (self.y*other.x)\n",
    "        dem = self.x*other.y\n",
    "        return \"{}/{}\".format(num,dem)\n",
    "    \n",
    "obj1 = Fraction(3,5)\n",
    "obj2 = Fraction(5,7)\n",
    "\n",
    "r1 = obj1+obj2\n",
    "r2 = obj1-obj2\n",
    "r3 = obj1*obj2\n",
    "r4 = obj1/obj2\n",
    "\n",
    "print(\"Fraction(Add) of \",obj1,\"+\",obj2,\"is : \",r1)\n",
    "print(\"Fraction(Sub) of \",obj1,\"+\",obj2,\"is : \",r2)\n",
    "print(\"Fraction(mul) of \",obj1,\"+\",obj2,\"is : \",r3)\n",
    "print(\"Fraction(div) of \",obj1,\"+\",obj2,\"is : \",r4)\n",
    "#Modulo(%) and power(**) is not supported"
   ]
  },
  {
   "cell_type": "code",
   "execution_count": 21,
   "metadata": {},
   "outputs": [
    {
     "name": "stdout",
     "output_type": "stream",
     "text": [
      "database\n",
      "10\n"
     ]
    }
   ],
   "source": [
    "from abc import ABC,abstractmethod\n",
    "class Father(ABC):\n",
    "    @abstractmethod\n",
    "    def vishal10(self):\n",
    "        pass\n",
    "    def database(self):\n",
    "        print('database')\n",
    "class Child(Father):\n",
    "    def display(self):\n",
    "        self.database()\n",
    "    def vishal10(self):\n",
    "        print('10')\n",
    "        \n",
    "#f = Father()                #TypeError: Can't instantiate abstract class Father with abstract methods vishal10 \n",
    "obj = Child()\n",
    "obj.display()\n",
    "obj.vishal10()"
   ]
  }
 ],
 "metadata": {
  "kernelspec": {
   "display_name": "Python 3",
   "language": "python",
   "name": "python3"
  },
  "language_info": {
   "codemirror_mode": {
    "name": "ipython",
    "version": 3
   },
   "file_extension": ".py",
   "mimetype": "text/x-python",
   "name": "python",
   "nbconvert_exporter": "python",
   "pygments_lexer": "ipython3",
   "version": "3.8.5"
  }
 },
 "nbformat": 4,
 "nbformat_minor": 4
}
