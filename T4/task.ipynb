{
 "cells": [
  {
   "cell_type": "code",
   "execution_count": 2,
   "metadata": {},
   "outputs": [
    {
     "name": "stdout",
     "output_type": "stream",
     "text": [
      "[[ 64  13 100  46  69  85]\n",
      " [ 54  43   7  34  17  19]\n",
      " [ 73  73  90  77  53  14]\n",
      " [ 74  41  41  83  74  95]\n",
      " [ 48  31  74  49  67  99]]\n",
      "\n",
      "Child method\n",
      "Highest score of match :  100\n",
      "lowest score of player :  14\n",
      "Match total score : \n",
      " [[ 64  13 100  46  69  85 377]\n",
      " [ 54  43   7  34  17  19 174]\n",
      " [ 73  73  90  77  53  14 380]\n",
      " [ 74  41  41  83  74  95 408]\n",
      " [ 48  31  74  49  67  99 368]]\n",
      "Sorted : \n",
      " [[ 54  43   7  34  17  19 174]\n",
      " [ 48  31  74  49  67  99 368]\n",
      " [ 64  13 100  46  69  85 377]\n",
      " [ 73  73  90  77  53  14 380]\n",
      " [ 74  41  41  83  74  95 408]]\n",
      "Total score of player :  [313 201 312 289 280 312]\n",
      "Binary Array : \n",
      " [[1 2 1 2 1 1]\n",
      " [1 2 2 2 2 2]\n",
      " [1 1 1 1 1 2]\n",
      " [1 2 2 1 1 1]\n",
      " [2 2 1 2 1 1]]\n"
     ]
    }
   ],
   "source": [
    "from abc import ABC,abstractmethod\n",
    "import numpy as np\n",
    "\n",
    "\n",
    "class Data(ABC):\n",
    "    array = np.array([[64,13,100,46,69,85],[54,43,7,34,17,19],[73,73,90,77,53,14],[74,41,41,83,74,95],[48,31,74,49,67,99]])\n",
    "    @abstractmethod\n",
    "    def abcmethod(self):\n",
    "        pass\n",
    "    \n",
    "class Match(Data):\n",
    "    def abcmethod(self):\n",
    "        print(\"Child method\")\n",
    "        \n",
    "    def match_highscore(self,match_number):\n",
    "        a = Data.array\n",
    "        print(\"Highest score of match : \",np.max(a[match_number]))\n",
    "        \n",
    "    def player_lowscore(self,player_number):\n",
    "        a = Data.array\n",
    "        print(\"lowest score of player : \",np.min(a[:,player_number-1]))\n",
    "                    \n",
    "    def match_total(self):\n",
    "        a = Data.array\n",
    "        s = Data.array.sum(axis=1)\n",
    "        s = s.reshape(-1,1)\n",
    "        b = np.concatenate((a,s),axis=1)\n",
    "        print(\"Match total score : \\n\",b)\n",
    "        \n",
    "    def sorted_matchtotal_hightolow(self):\n",
    "        a = Data.array\n",
    "        s = Data.array.sum(axis=1)\n",
    "        s = s.reshape(-1,1)\n",
    "        b = np.concatenate((a,s),axis=1)\n",
    "        y = list(b)\n",
    "        y.sort(key = lambda x : x[-1])\n",
    "        y = np.array(y)\n",
    "        print(\"Sorted : \\n\",y)\n",
    "    \n",
    "    def player_totalscore(self):\n",
    "        a = Data.array\n",
    "        print(\"Total score of player : \",np.sum(a,axis=0))\n",
    "        \n",
    "    def binary_array(self):\n",
    "        a = Data.array\n",
    "        ba = np.where(a>50,1,2)\n",
    "        print(\"Binary Array : \\n\",ba)\n",
    "    \n",
    "    \n",
    "obj = Match()\n",
    "print(obj.array)\n",
    "print()\n",
    "obj.abcmethod()\n",
    "obj.match_highscore(0)\n",
    "obj.player_lowscore(0)\n",
    "obj.match_total()\n",
    "obj.sorted_matchtotal_hightolow()\n",
    "obj.player_totalscore()\n",
    "obj.binary_array()"
   ]
  },
  {
   "cell_type": "code",
   "execution_count": 13,
   "metadata": {},
   "outputs": [
    {
     "name": "stdout",
     "output_type": "stream",
     "text": [
      "Minimum production of day5 :  7\n",
      "Maximum production of m1 :  15\n",
      "Total Production of \n",
      "m1: 49   m2: 71   m3: 56   m4: 59\n",
      "Total Production of \n",
      "d1: 59   d2:  33   d3: 63   d4: 45   d5: 35  \n"
     ]
    }
   ],
   "source": [
    "import numpy as np\n",
    "m1=np.array([15,9,12,6,7])\n",
    "m2=np.array([25,10,16,12,8])\n",
    "m3=np.array([12,3,17,13,11])\n",
    "m4=np.array([7,11,18,14,9])\n",
    "\n",
    "d1=np.array([15,25,12,7])\n",
    "d2=np.array([9,10,3,11])\n",
    "d3=np.array([12,16,17,18])\n",
    "d4=np.array([6,12,13,14])\n",
    "d5=np.array([7,8,11,9])\n",
    "\n",
    "print(\"Minimum production of day5 : \",np.min(d5))\n",
    "print(\"Maximum production of m1 : \",np.max(m1[0]))\n",
    "print(\"Total Production of \")\n",
    "print(\"m1:\",np.sum(m1,axis=0),\" \",\"m2:\",np.sum(m2,axis=0),\" \",\"m3:\",np.sum(m3,axis=0),\" \",\"m4:\",np.sum(m4,axis=0))\n",
    "print(\"Total Production of \")\n",
    "print(\"d1:\",np.sum(d1,axis=0),\" \",\"d2: \",np.sum(d2,axis=0),\" \",\"d3:\",np.sum(d3,axis=0),\" \",\"d4:\",np.sum(d4,axis=0),\" \",\"d5:\",np.sum(d5,axis=0),\" \")"
   ]
  }
 ],
 "metadata": {
  "kernelspec": {
   "display_name": "Python 3",
   "language": "python",
   "name": "python3"
  },
  "language_info": {
   "codemirror_mode": {
    "name": "ipython",
    "version": 3
   },
   "file_extension": ".py",
   "mimetype": "text/x-python",
   "name": "python",
   "nbconvert_exporter": "python",
   "pygments_lexer": "ipython3",
   "version": "3.8.5"
  }
 },
 "nbformat": 4,
 "nbformat_minor": 4
}
