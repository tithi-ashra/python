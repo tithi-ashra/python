{
 "cells": [
  {
   "cell_type": "code",
   "execution_count": 2,
   "metadata": {},
   "outputs": [],
   "source": [
    "# immuteable :- str(unicode(16-32)),tuple,frosenset\n",
    "# mutuable :- list,dict,set,lambda"
   ]
  },
  {
   "cell_type": "code",
   "execution_count": 26,
   "metadata": {},
   "outputs": [
    {
     "data": {
      "text/plain": [
       "'0lhi'"
      ]
     },
     "execution_count": 26,
     "metadata": {},
     "output_type": "execute_result"
    }
   ],
   "source": [
    "s = \"vishal10\"\n",
    "s[0]                   #'v'\n",
    "s[7]                   #'0'\n",
    "s[len(s)-1]            #'0'\n",
    "s[-1]                  #'0'\n",
    "s[0:3]                 #'vis'\n",
    "s[2:6]                 #'shal'\n",
    "s[-6:-2]               #'shal'\n",
    "s[ : :-1]              #'01lahsiv'  start,end,step\n",
    "s[ : :2]               #'vsa1'\n",
    "s[ : :-2]              #'0lhi'"
   ]
  },
  {
   "cell_type": "code",
   "execution_count": 12,
   "metadata": {},
   "outputs": [
    {
     "name": "stdout",
     "output_type": "stream",
     "text": [
      "1857917246512\n",
      "1857917258736\n"
     ]
    }
   ],
   "source": [
    "s=\"vis\"\n",
    "print(id(s))\n",
    "s=\"Vis\"\n",
    "print(id(s))"
   ]
  },
  {
   "cell_type": "code",
   "execution_count": 38,
   "metadata": {},
   "outputs": [
    {
     "name": "stdout",
     "output_type": "stream",
     "text": [
      "v i s h a l \n",
      "0 1 2 3 4 5 \n",
      "v i s h a l "
     ]
    }
   ],
   "source": [
    "s = \"vishal\"\n",
    "#del s   or  del(s)\n",
    "#print(s)    error\n",
    "for i in s:\n",
    "    print(i,end=\" \")\n",
    "print()\n",
    "for i in range(0,len(s)):\n",
    "    print(i,end=\" \")\n",
    "print()\n",
    "for i in range(0,len(s)):\n",
    "    print(s[i],end=\" \")"
   ]
  },
  {
   "cell_type": "code",
   "execution_count": 50,
   "metadata": {},
   "outputs": [
    {
     "name": "stdout",
     "output_type": "stream",
     "text": [
      "ab\n",
      "aaa\n"
     ]
    },
    {
     "data": {
      "text/plain": [
       "True"
      ]
     },
     "execution_count": 50,
     "metadata": {},
     "output_type": "execute_result"
    }
   ],
   "source": [
    "print('a'+'b')                   #ab\n",
    "#print('a'-'b')                  #error\n",
    "print('a'*3)                     #aaa\n",
    "#print('a'/3)                    #error\n",
    "\n",
    "\"pune\"==\"pune\"                   #true\n",
    "\"vishal\">\"p\"                     #true\n",
    "\"v\">\"pune\"                       #true\n",
    "\"aa\">\"aaa\"                       #false\n",
    "\"v\" in \"vishal\"                  #true"
   ]
  },
  {
   "cell_type": "code",
   "execution_count": 59,
   "metadata": {},
   "outputs": [
    {
     "name": "stdout",
     "output_type": "stream",
     "text": [
      "Enter string 1 : aa\n",
      "Enter string 2 : a\n",
      "aa   a\n",
      "Balance\n"
     ]
    }
   ],
   "source": [
    "s1 = input(\"Enter string 1 : \")\n",
    "s2 = input(\"Enter string 2 : \")\n",
    "\n",
    "flag = True\n",
    "for i in s1:\n",
    "    if i not in s2:\n",
    "        flag = False\n",
    "        break\n",
    "if flag==True:\n",
    "    for i in s2:\n",
    "        if i not in s1:\n",
    "            flag = False\n",
    "            break\n",
    "if flag:\n",
    "    print(\"Balance\")\n",
    "else:\n",
    "    print(\"Not\")"
   ]
  },
  {
   "cell_type": "code",
   "execution_count": 62,
   "metadata": {},
   "outputs": [
    {
     "name": "stdout",
     "output_type": "stream",
     "text": [
      "vishal\n",
      "\n"
     ]
    }
   ],
   "source": [
    "print(\"\" or \"vishal\")            #vishal\n",
    "print(\"\" and \"vishal\")           #empty space(null)"
   ]
  },
  {
   "cell_type": "code",
   "execution_count": 65,
   "metadata": {},
   "outputs": [
    {
     "name": "stdout",
     "output_type": "stream",
     "text": [
      "5\n",
      "h\n",
      "t\n",
      "['h', 'i', 'i', 't', 't']\n",
      "['t', 't', 'i', 'i', 'h']\n"
     ]
    }
   ],
   "source": [
    "s = \"tithi\"\n",
    "print(len(s))                   \n",
    "print(min(s))\n",
    "print(max(s))\n",
    "print(sorted(s))                     #list\n",
    "print(sorted(s,reverse=True))        "
   ]
  },
  {
   "cell_type": "code",
   "execution_count": 34,
   "metadata": {},
   "outputs": [
    {
     "data": {
      "text/plain": [
       "2"
      ]
     },
     "execution_count": 34,
     "metadata": {},
     "output_type": "execute_result"
    }
   ],
   "source": [
    "'''String methods are :-\n",
    "   1.capitalize()\n",
    "   2.title()\n",
    "   3.upper()\n",
    "   4.lower()\n",
    "   5.swapcase()\n",
    "   6.find()\n",
    "   7.index()\n",
    "   8.isalnum()\n",
    "   9.isdigit()\n",
    "   10.isalpha()\n",
    "   11.isspace()\n",
    "   12.isidentifier()\n",
    "   13.isnumeric()\n",
    "   14.istitle()\n",
    "   15.isupper()\n",
    "   16.islower()\n",
    "   17.startswith()\n",
    "   18.endswith()\n",
    "   19.count()'''\n",
    "\n",
    "x = \"b1 is best in python\"\n",
    "x.capitalize()                        #'B1 is best in python'\n",
    "x.title()                             #'B1 Is Best In Python'\n",
    "x.upper()\n",
    "x.lower()\n",
    "x.swapcase()                          #'B1 IS BEST IN PYTHON' viceversa\n",
    "\n",
    "x = \"vishal is best\"\n",
    "x.find(i)                             #3 & to find last occurrence x.rfind(i)\n",
    "x.find('i')                           #1\n",
    "x.find('i',3,10)                      #7\n",
    "x.find(\"w\")                           #-1\n",
    "x.rfind(\"s\")                          #12\n",
    "x.index(\"i\")                          #1\n",
    "#x.index('w')                         #error \n",
    "'123vishal'.isalnum()                 #true\n",
    "'123.vishal'.isalnum()                #false\n",
    "'vishal_123'.isidentifier()           #true & false for variable name\n",
    "'vishal is best'.startswith('vi')     #true\n",
    "'vishal is best'.endswith('st')       #true\n",
    "'vishal is best'.count('i')           #2"
   ]
  },
  {
   "cell_type": "code",
   "execution_count": 10,
   "metadata": {},
   "outputs": [
    {
     "name": "stdout",
     "output_type": "stream",
     "text": [
      "Enter Word : heelloo\n",
      "HeelloO\n"
     ]
    }
   ],
   "source": [
    "word = input(\"Enter Word : \")\n",
    "\n",
    "word = word.title()\n",
    "n = \"\"\n",
    "for i in range(0,len(word)):\n",
    "    if i==len(word)-1:\n",
    "        n += word[i].upper()\n",
    "    elif word[i+1]==\" \":\n",
    "        n += word[i].upper()\n",
    "    else:\n",
    "        n += word[i]\n",
    "    \n",
    "print(n)"
   ]
  }
 ],
 "metadata": {
  "kernelspec": {
   "display_name": "Python 3",
   "language": "python",
   "name": "python3"
  },
  "language_info": {
   "codemirror_mode": {
    "name": "ipython",
    "version": 3
   },
   "file_extension": ".py",
   "mimetype": "text/x-python",
   "name": "python",
   "nbconvert_exporter": "python",
   "pygments_lexer": "ipython3",
   "version": "3.8.5"
  }
 },
 "nbformat": 4,
 "nbformat_minor": 4
}
