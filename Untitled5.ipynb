{
 "cells": [
  {
   "cell_type": "code",
   "execution_count": 2,
   "metadata": {},
   "outputs": [
    {
     "name": "stdout",
     "output_type": "stream",
     "text": [
      "Th*is is$ nothi&&ng b#ut exerc(is)e\n"
     ]
    }
   ],
   "source": [
    "s=\"Th*is is$ nothi&&ng b#ut exerc(is)e\"\n",
    "change = str.maketrans(\"(\",\",\",\"@#$%^&*_-)\")\n",
    "s.translate(change)\n",
    "print(s)"
   ]
  },
  {
   "cell_type": "code",
   "execution_count": 8,
   "metadata": {},
   "outputs": [
    {
     "name": "stdout",
     "output_type": "stream",
     "text": [
      "Enter number : 5325\n",
      "MMMMMCCCXXV\n"
     ]
    }
   ],
   "source": [
    "num = int(input(\"Enter number : \"))\n",
    "s=\"\"\n",
    "value = [1000,500,100,50,10,5,1]\n",
    "icon = ['M','D','C','L','X','V','I']\n",
    "for i in range(len(value)):\n",
    "    while value[i]<=num:\n",
    "        s += icon[i]\n",
    "        num -= value[i]\n",
    "print(s)"
   ]
  },
  {
   "cell_type": "code",
   "execution_count": null,
   "metadata": {},
   "outputs": [],
   "source": [
    "num = input(\"Enter number : \")\n",
    "sum=0\n",
    "for i in range(0,len(s)-1):\n",
    "    if d[s[i]]>=d[s[i+1]]:\n",
    "        "
   ]
  }
 ],
 "metadata": {
  "kernelspec": {
   "display_name": "Python 3",
   "language": "python",
   "name": "python3"
  },
  "language_info": {
   "codemirror_mode": {
    "name": "ipython",
    "version": 3
   },
   "file_extension": ".py",
   "mimetype": "text/x-python",
   "name": "python",
   "nbconvert_exporter": "python",
   "pygments_lexer": "ipython3",
   "version": "3.8.5"
  }
 },
 "nbformat": 4,
 "nbformat_minor": 4
}
