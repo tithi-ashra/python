{
 "cells": [
  {
   "cell_type": "markdown",
   "metadata": {},
   "source": [
    "# MODULE\n",
    "It is a part of software\n",
    "# PACKAGE\n",
    "Group of module\n",
    "# LIBRARAY\n",
    "Group of package\n",
    "# FRAMEWORK\n",
    "Group of library"
   ]
  },
  {
   "cell_type": "markdown",
   "metadata": {},
   "source": [
    "# Methods are:-\n",
    "# 1.getcwd() :- give current working directory\n",
    "# 2.chdir() :- change directory\n",
    "# 3.mkdir() :- make directory\n",
    "# 4.listdir() :- show all directory\n",
    "# 5.remove() :- remove file inside the directory\n",
    "# 6.rmdir() :- remove directory"
   ]
  },
  {
   "cell_type": "code",
   "execution_count": 6,
   "metadata": {},
   "outputs": [
    {
     "name": "stdout",
     "output_type": "stream",
     "text": [
      "d:\\mypython\n",
      "d:\\\n",
      "['B1_24', 'B1_24 fsd', 'desktop.ini', 'Files']\n"
     ]
    },
    {
     "data": {
      "text/plain": [
       "['B1_24', 'B1_24 fsd', 'desktop.ini', 'Files']"
      ]
     },
     "execution_count": 6,
     "metadata": {},
     "output_type": "execute_result"
    }
   ],
   "source": [
    "import os\n",
    "print(os.getcwd())                                  \n",
    "#os.mkdir('D:\\\\mypython')\n",
    "#os.chdir('D:\\\\ Mypython')                          #FileExistsError  \n",
    "os.chdir('..')\n",
    "print(os.getcwd())\n",
    "print(os.listdir('c:'))\n",
    "os.listdir('c:')"
   ]
  },
  {
   "cell_type": "code",
   "execution_count": 18,
   "metadata": {},
   "outputs": [],
   "source": [
    "import os\n",
    "os.chdir('d:\\\\mypython')\n",
    "f1=open('file1.txt','w')\n",
    "f2=open('file2.txt','w')\n",
    "f1.close()\n",
    "f2.close()\n",
    "#os.remove('d:\\\\mypython\\\\file1.txt')             #use double slash otherwise it will give oserror and \n",
    "                                                 #it will give error if it not found\n",
    "#os.rmdir('d:\\\\mypython')                        #PermissionError\n",
    "os.remove('d:\\\\mypython\\\\file2.txt')\n",
    "#os.rmdir('d:\\\\mypython')                        #it will give PermissionError if we working in that file so change the directory\n",
    "os.chdir('d:\\\\tithi')\n",
    "os.rmdir('d:\\\\mypython')"
   ]
  },
  {
   "cell_type": "markdown",
   "metadata": {},
   "source": [
    "# %%writefile will create py file\n",
    "# IMPORT \n",
    "# IMPORT AS\n",
    "# FROM IMPORT\n",
    "# FROM IMPORT *\n",
    "# FROM IMPORT AS"
   ]
  },
  {
   "cell_type": "code",
   "execution_count": 28,
   "metadata": {},
   "outputs": [
    {
     "name": "stdout",
     "output_type": "stream",
     "text": [
      "Overwriting calc.py\n"
     ]
    }
   ],
   "source": [
    "%%writefile calc.py\n",
    "def add(a,b):\n",
    "    ans = a+b\n",
    "    return ans\n",
    "def mul(a,b):\n",
    "    ans = a*b\n",
    "    return ans"
   ]
  },
  {
   "cell_type": "code",
   "execution_count": 30,
   "metadata": {},
   "outputs": [
    {
     "name": "stdout",
     "output_type": "stream",
     "text": [
      "8\n",
      "24\n",
      "8\n",
      "24\n"
     ]
    }
   ],
   "source": [
    "import calc\n",
    "print(calc.add(3,5))\n",
    "print(calc.mul(3,8))\n",
    "\n",
    "import calc as c\n",
    "print(c.add(3,5))\n",
    "print(c.mul(3,8))"
   ]
  },
  {
   "cell_type": "code",
   "execution_count": 35,
   "metadata": {},
   "outputs": [
    {
     "name": "stdout",
     "output_type": "stream",
     "text": [
      "14\n",
      "3\n",
      "15\n",
      "8\n"
     ]
    }
   ],
   "source": [
    "from calc import add\n",
    "print(add(6,8))\n",
    "\n",
    "from calc import *\n",
    "print(add(1,2))\n",
    "print(mul(3,5))\n",
    "\n",
    "from calc import add as a\n",
    "print(a(3,5))"
   ]
  },
  {
   "cell_type": "code",
   "execution_count": 53,
   "metadata": {},
   "outputs": [
    {
     "name": "stdout",
     "output_type": "stream",
     "text": [
      "Overwriting find.py\n"
     ]
    }
   ],
   "source": [
    "%%writefile find.py\n",
    "def find(s,sub):\n",
    "    main = len(s)\n",
    "    substr = len(sub)\n",
    "    for i in range(main-substr+1):\n",
    "        if s[i:i+substr]==sub:\n",
    "            return i\n",
    "    return -1\n",
    "    \n",
    "def rfind(s,sub):\n",
    "    c=-1\n",
    "    for i in range(len(s)):\n",
    "        if s[i:i+len(sub)]==sub:\n",
    "            c=i\n",
    "    return c\n",
    "    \n",
    "def count(s,sub):\n",
    "    c=0\n",
    "    for i in range(len(s)):\n",
    "        if s[i:i+len(sub)]==sub:\n",
    "            c+=1\n",
    "    return c"
   ]
  },
  {
   "cell_type": "code",
   "execution_count": 57,
   "metadata": {},
   "outputs": [
    {
     "name": "stdout",
     "output_type": "stream",
     "text": [
      "4\n"
     ]
    }
   ],
   "source": [
    "import find as f\n",
    "print(f.find('abcdefghijkl','efgh'))"
   ]
  },
  {
   "cell_type": "markdown",
   "metadata": {},
   "source": [
    "# Packages :- numpy,pandas\n",
    "# Libraries :- Matplotlib,Pytorch,Pygame,Seaborn,etc"
   ]
  }
 ],
 "metadata": {
  "kernelspec": {
   "display_name": "Python 3",
   "language": "python",
   "name": "python3"
  },
  "language_info": {
   "codemirror_mode": {
    "name": "ipython",
    "version": 3
   },
   "file_extension": ".py",
   "mimetype": "text/x-python",
   "name": "python",
   "nbconvert_exporter": "python",
   "pygments_lexer": "ipython3",
   "version": "3.8.5"
  }
 },
 "nbformat": 4,
 "nbformat_minor": 4
}
