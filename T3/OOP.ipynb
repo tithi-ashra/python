{
 "cells": [
  {
   "cell_type": "markdown",
   "metadata": {},
   "source": [
    "# OOP \n",
    "# Types are :- 1.Class :- blueprint/template,collections of objects/datatype\n",
    "#                      2.Object\n",
    "#                      3.Abstraction :- data hiding\n",
    "#                      4.Encapsulation :- public,private,protected\n",
    "#                      5.Inheritance :- child use parent\n",
    "#                      6.Polymorphism :- overriding,overloading"
   ]
  },
  {
   "cell_type": "code",
   "execution_count": 2,
   "metadata": {},
   "outputs": [
    {
     "name": "stdout",
     "output_type": "stream",
     "text": [
      "<class 'list'>\n"
     ]
    },
    {
     "ename": "AttributeError",
     "evalue": "'list' object has no attribute 'upper'",
     "output_type": "error",
     "traceback": [
      "\u001b[1;31m---------------------------------------------------------------------------\u001b[0m",
      "\u001b[1;31mAttributeError\u001b[0m                            Traceback (most recent call last)",
      "\u001b[1;32m<ipython-input-2-0e4493ab7bad>\u001b[0m in \u001b[0;36m<module>\u001b[1;34m\u001b[0m\n\u001b[0;32m      1\u001b[0m \u001b[0ml\u001b[0m\u001b[1;33m=\u001b[0m\u001b[1;33m[\u001b[0m\u001b[1;36m1\u001b[0m\u001b[1;33m,\u001b[0m\u001b[1;36m2\u001b[0m\u001b[1;33m,\u001b[0m\u001b[1;36m3\u001b[0m\u001b[1;33m]\u001b[0m\u001b[1;33m\u001b[0m\u001b[1;33m\u001b[0m\u001b[0m\n\u001b[0;32m      2\u001b[0m \u001b[0mprint\u001b[0m\u001b[1;33m(\u001b[0m\u001b[0mtype\u001b[0m\u001b[1;33m(\u001b[0m\u001b[0ml\u001b[0m\u001b[1;33m)\u001b[0m\u001b[1;33m)\u001b[0m\u001b[1;33m\u001b[0m\u001b[1;33m\u001b[0m\u001b[0m\n\u001b[1;32m----> 3\u001b[1;33m \u001b[0ml\u001b[0m\u001b[1;33m.\u001b[0m\u001b[0mupper\u001b[0m\u001b[1;33m(\u001b[0m\u001b[1;33m)\u001b[0m\u001b[1;33m\u001b[0m\u001b[1;33m\u001b[0m\u001b[0m\n\u001b[0m",
      "\u001b[1;31mAttributeError\u001b[0m: 'list' object has no attribute 'upper'"
     ]
    }
   ],
   "source": [
    "l=[1,2,3]\n",
    "print(type(l))\n",
    "l.upper()"
   ]
  },
  {
   "cell_type": "code",
   "execution_count": 14,
   "metadata": {},
   "outputs": [
    {
     "name": "stdout",
     "output_type": "stream",
     "text": [
      "tithi ashra\n",
      "10\n",
      "<class '__main__.lj'>\n",
      "1904575068336\n",
      "1904575068624\n"
     ]
    }
   ],
   "source": [
    "class lj:\n",
    "    def __init__(self):\n",
    "        self.name=\"tithi ashra\"\n",
    "        self.mark=10\n",
    "        \n",
    "obj1 = lj()\n",
    "obj2 = lj()\n",
    "print(obj1.name)\n",
    "print(obj1.mark)\n",
    "print(type(obj1))\n",
    "print(id(obj1))\n",
    "print(id(obj2))"
   ]
  },
  {
   "cell_type": "markdown",
   "metadata": {},
   "source": [
    "# Constructor\n",
    "# types are :- 1.default\n",
    "#                      2.Parameterized"
   ]
  },
  {
   "cell_type": "code",
   "execution_count": 19,
   "metadata": {},
   "outputs": [
    {
     "name": "stdout",
     "output_type": "stream",
     "text": [
      "vishal\n",
      "15\n",
      "<built-in method __dir__ of Lj object at 0x000001BB71853B80>\n",
      "{'name': 'vishal', 'mark': '15'}\n"
     ]
    }
   ],
   "source": [
    "class Lj:\n",
    "    def __init__(self,name,marks):\n",
    "        self.name = name\n",
    "        self.mark = marks\n",
    "        \n",
    "ob = Lj('vishal','15')\n",
    "print(ob.name)\n",
    "print(ob.mark)\n",
    "print(ob.__dir__)\n",
    "print(ob.__dict__)"
   ]
  },
  {
   "cell_type": "code",
   "execution_count": 5,
   "metadata": {},
   "outputs": [
    {
     "name": "stdout",
     "output_type": "stream",
     "text": [
      "{'name': 'abc', 'mark': '50'}\n",
      "{'name': 'pqr', 'mark': '50'}\n"
     ]
    }
   ],
   "source": [
    "class Lj:\n",
    "    def __init__(self,name,marks):\n",
    "        self.name = name\n",
    "        self.mark = marks\n",
    "        \n",
    "obj1 = Lj('abc','50')\n",
    "obj2 = Lj('xyz','40')\n",
    "print(obj1.__dict__)\n",
    "obj1.name = 'pqr'\n",
    "print(obj1.__dict__)"
   ]
  },
  {
   "cell_type": "code",
   "execution_count": 8,
   "metadata": {},
   "outputs": [
    {
     "name": "stdout",
     "output_type": "stream",
     "text": [
      "{'name': 'vishal', 'mark': 10}\n"
     ]
    }
   ],
   "source": [
    "class Lj:\n",
    "    def __init__(self,name,marks):\n",
    "        self.name = name\n",
    "        self.mark = marks\n",
    "    def set(self):\n",
    "        self.name = input()\n",
    "        \n",
    "o1 = Lj('vishal',10)\n",
    "#o1.set()                                          #TypeError \n",
    "print(o1.__dict__)"
   ]
  },
  {
   "cell_type": "markdown",
   "metadata": {},
   "source": [
    "# Methods :-\n",
    "# 1.getattr(obj1,\"name\")\n",
    "# 2.setattr(obj1,\"name\",value)\n",
    "# 3.delattr(obj1,\"name\")\n",
    "# 4.hasattr(obj1,\"name\")\n",
    "# 5.print(obj.__dict__)\n",
    "# 6.print(class.__name__)\n",
    "# 7.print(class.__module__)\n",
    "# 8.isinstance(obj,class)"
   ]
  },
  {
   "cell_type": "code",
   "execution_count": 19,
   "metadata": {},
   "outputs": [
    {
     "name": "stdout",
     "output_type": "stream",
     "text": [
      "{'name': 'ABC', 'mark': 54}\n",
      "ABC\n",
      "None\n",
      "{'name': 'ABC', 'mark': 40}\n",
      "None\n",
      "{'name': 'ABC'}\n",
      "True\n",
      "Lj\n",
      "__main__\n"
     ]
    },
    {
     "data": {
      "text/plain": [
       "True"
      ]
     },
     "execution_count": 19,
     "metadata": {},
     "output_type": "execute_result"
    }
   ],
   "source": [
    "class Lj:\n",
    "    def __init__(self,name,marks):\n",
    "        self.name = name\n",
    "        self.mark = marks\n",
    "        \n",
    "b1 = Lj('ABC',54)\n",
    "print(b1.__dict__)\n",
    "print(getattr(b1,\"name\"))\n",
    "print(setattr(b1,\"mark\",40))\n",
    "print(b1.__dict__)\n",
    "print(delattr(b1,'mark'))\n",
    "print(b1.__dict__)\n",
    "print(hasattr(b1,\"name\"))\n",
    "\n",
    "print(Lj.__name__)\n",
    "print(Lj.__module__)\n",
    "print(isinstance(b1,Lj))"
   ]
  },
  {
   "cell_type": "code",
   "execution_count": 1,
   "metadata": {},
   "outputs": [
    {
     "name": "stdout",
     "output_type": "stream",
     "text": [
      "{'name': 'abc', 'mark': '50'}\n",
      "{'name': 'pqr', 'mark': '50'}\n"
     ]
    }
   ],
   "source": [
    "class Lj:\n",
    "    def __init__(self,name,marks):\n",
    "        self.name = name\n",
    "        self.mark = marks\n",
    "        \n",
    "obj1 = Lj('abc','50')\n",
    "obj2 = Lj('xyz','40')\n",
    "print(obj1.__dict__)\n",
    "obj1.name = 'pqr'\n",
    "print(obj1.__dict__)"
   ]
  },
  {
   "cell_type": "code",
   "execution_count": 6,
   "metadata": {},
   "outputs": [
    {
     "name": "stdout",
     "output_type": "stream",
     "text": [
      "Menu of ATM : \n",
      "1.Withdraw\n",
      "2.Credit\n",
      "3.Pin num change\n",
      "4.Balance\n",
      "5.Exit\n",
      "Enter your choice : 1\n",
      "Enter Money to withdraw : 20\n",
      "Successfully! Withdrawed $20.\n",
      "Menu of ATM : \n",
      "1.Withdraw\n",
      "2.Credit\n",
      "3.Pin num change\n",
      "4.Balance\n",
      "5.Exit\n",
      "Enter your choice : 4\n",
      "Your current balance :  2480\n",
      "Menu of ATM : \n",
      "1.Withdraw\n",
      "2.Credit\n",
      "3.Pin num change\n",
      "4.Balance\n",
      "5.Exit\n",
      "Enter your choice : 2\n",
      "Enter Money to deposite : 40\n",
      "Successfilly deposited.\n",
      "Menu of ATM : \n",
      "1.Withdraw\n",
      "2.Credit\n",
      "3.Pin num change\n",
      "4.Balance\n",
      "5.Exit\n",
      "Enter your choice : 4\n",
      "Your current balance :  2520\n",
      "Menu of ATM : \n",
      "1.Withdraw\n",
      "2.Credit\n",
      "3.Pin num change\n",
      "4.Balance\n",
      "5.Exit\n",
      "Enter your choice : 5\n"
     ]
    }
   ],
   "source": [
    "class ATM:\n",
    "    bank_balance = 10000000\n",
    "    def __init__(self,name,balance,pin):\n",
    "        self.name = name\n",
    "        self.balance = balance\n",
    "        self.pin = pin\n",
    "        self.menu()\n",
    "        \n",
    "    def withdraw(self,money):\n",
    "        if money>self.balance:\n",
    "            print(f\"Sorry your current balance : ${balance}.\")\n",
    "        else:\n",
    "            self.balance -= money\n",
    "            ATM.bank_balance -= money\n",
    "            print(f\"Successfully! Withdrawed ${money}.\")\n",
    "            \n",
    "    def deposite(self,money):\n",
    "        self.balance += money\n",
    "        ATM.bank_balance += money\n",
    "        print(\"Successfilly deposited.\")\n",
    "        \n",
    "    def bal_display(self):\n",
    "        print(\"Your current balance : \",self.balance)\n",
    "        \n",
    "    def pin_change(self,newpin):    \n",
    "        self.pin = newpin\n",
    "        \n",
    "    def menu(self):\n",
    "        f = True\n",
    "        while(f):\n",
    "            print(\"Menu of ATM : \\n1.Withdraw\\n2.Credit\\n3.Pin num change\\n4.Balance\\n5.Exit\")\n",
    "            ch = int(input(\"Enter your choice : \"))\n",
    "\n",
    "            if ch==1:\n",
    "                money = int(input(\"Enter Money to withdraw : \"))\n",
    "                self.withdraw(money)\n",
    "            elif ch==2:\n",
    "                money = int(input(\"Enter Money to deposite : \"))\n",
    "                self.deposite(money)\n",
    "            elif ch==3:\n",
    "                npin = int(input(\"Enter new pin : \"))\n",
    "                self.pin_change(npin)\n",
    "            elif ch==4:\n",
    "                self.bal_display()\n",
    "            elif ch==5:\n",
    "                f = False\n",
    "                print(\"Exiting....\")\n",
    "                break\n",
    "            else:\n",
    "                print(\"Please,Enter Proper Choice.\")\n",
    "                \n",
    "ob = ATM('babu',2500,1234)"
   ]
  }
 ],
 "metadata": {
  "kernelspec": {
   "display_name": "Python 3",
   "language": "python",
   "name": "python3"
  },
  "language_info": {
   "codemirror_mode": {
    "name": "ipython",
    "version": 3
   },
   "file_extension": ".py",
   "mimetype": "text/x-python",
   "name": "python",
   "nbconvert_exporter": "python",
   "pygments_lexer": "ipython3",
   "version": "3.8.5"
  }
 },
 "nbformat": 4,
 "nbformat_minor": 4
}
