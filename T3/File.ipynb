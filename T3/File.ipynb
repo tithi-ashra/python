{
 "cells": [
  {
   "cell_type": "markdown",
   "metadata": {},
   "source": [
    "# File\n",
    "\n",
    "# file open attribute: open()\n",
    "# 1.filename\n",
    "# 2.buffering (-ve)\n",
    "# 3.encoding\n",
    "# 4.errors\n",
    "# 5.newline\n",
    "# 6.closefd=true\n",
    "# 7.opener\n",
    "\n",
    "# file close: .close()"
   ]
  },
  {
   "cell_type": "code",
   "execution_count": 4,
   "metadata": {},
   "outputs": [
    {
     "name": "stdout",
     "output_type": "stream",
     "text": [
      "<_io.TextIOWrapper name='xyz.txt' mode='r' encoding='cp1252'>\n",
      "<_io.TextIOWrapper name='xyz.txt' mode='r' encoding='cp1252'>\n"
     ]
    }
   ],
   "source": [
    "file_object = open('xyz.txt',mode = 'r',encoding = None,errors = None,newline = None)#encoding=utf-8\n",
    "print(file_object)\n",
    "file_object1 = open('xyz.txt',mode = 'r')\n",
    "print(file_object1)"
   ]
  },
  {
   "cell_type": "code",
   "execution_count": 15,
   "metadata": {},
   "outputs": [
    {
     "name": "stdout",
     "output_type": "stream",
     "text": [
      "ABC\n",
      "\n",
      "XYZ\n",
      "\n",
      "HIIIII\n",
      "\n",
      "HELLLOOOOO\n",
      "\n",
      "BYEEEEEE\n",
      "\n",
      "HOW ARE YOU?\n",
      "\n",
      "I AM FINE.\n",
      "\n"
     ]
    }
   ],
   "source": [
    "file_object = open('xyz.txt',mode = 'r',encoding = None,errors = None,newline = None)\n",
    "for i in file_object:\n",
    "    print(i)"
   ]
  },
  {
   "cell_type": "code",
   "execution_count": 17,
   "metadata": {},
   "outputs": [
    {
     "name": "stdout",
     "output_type": "stream",
     "text": [
      "<_io.TextIOWrapper name='D:/tithi/abc.txt' mode='r' encoding='cp1252'>\n",
      "ABC\n",
      "\n",
      "XYZ\n",
      "\n",
      "HIII\n",
      "\n",
      "HELLLOOO\n",
      "\n"
     ]
    }
   ],
   "source": [
    "file_object = open('D:/tithi/abc.txt')\n",
    "print(file_object)\n",
    "for i in file_object:\n",
    "    print(i)\n",
    "file_object.close()\n",
    "#print(file_object)             #print same(temp save nut delete from rom) but give value error if we access the text of file"
   ]
  },
  {
   "cell_type": "markdown",
   "metadata": {},
   "source": [
    "# Modes\n",
    "# r : only read and pointer = start\n",
    "# r+ : read,write and pointer = start\n",
    "# w : only write and pointer = tstart/end\n",
    "# w+ : write,read and pointer = start/end\n",
    "# a : append(write) and pointer = end\n",
    "# a+ : append,read and pointer = end"
   ]
  },
  {
   "cell_type": "code",
   "execution_count": 20,
   "metadata": {},
   "outputs": [
    {
     "name": "stdout",
     "output_type": "stream",
     "text": [
      "ABC\n",
      "XYZ\n",
      "HIIIII\n",
      "HELLLOOOOO\n",
      "BYEEEEEE\n",
      "HOW ARE YOU?\n",
      "I AM FINE.\n",
      "\n",
      "> \n"
     ]
    }
   ],
   "source": [
    "file_object1 = open('xyz.txt',mode = 'r')\n",
    "r = file_object1.read()\n",
    "print(r)\n",
    "x = file_object1.read()\n",
    "print(\">\",x)                           #after last\n",
    "file_object1.close()\n",
    "\n",
    "#file_object = open('vishal.txt',mode = 'r')\n",
    "#print(file_object)                         #FileNotFoundError \n",
    "#file = open('hello.txt',mode = 'r')\n",
    "#file.write('hello')                        #UnsupportedOperation "
   ]
  },
  {
   "cell_type": "code",
   "execution_count": 29,
   "metadata": {},
   "outputs": [
    {
     "name": "stdout",
     "output_type": "stream",
     "text": [
      "<_io.TextIOWrapper name='hello.txt' mode='r+' encoding='cp1252'>\n",
      "byeee\n",
      "\n"
     ]
    }
   ],
   "source": [
    "file = open('hello.txt',mode = 'r+')\n",
    "print(file)                                 \n",
    "file.write('helloo')                        #added at start\n",
    "r = file.read()\n",
    "print(r)                                    #overwrite the file text\n",
    "file.write('byeee')\n",
    "r1 = file.read()\n",
    "print(r1)\n",
    "file.close()"
   ]
  },
  {
   "cell_type": "code",
   "execution_count": 41,
   "metadata": {},
   "outputs": [],
   "source": [
    "file = open('hello.txt',mode = 'w')\n",
    "file.write(\"byeee\")                        #overwrite the file text\n",
    "file.close()\n",
    "file = open('abc.txt',mode = 'w')          #new file is created if not found\n",
    "file.write('hiii')\n",
    "#file.read()                              #UnsupportedOperation  \n",
    "file.close()"
   ]
  },
  {
   "cell_type": "code",
   "execution_count": 43,
   "metadata": {},
   "outputs": [
    {
     "name": "stdout",
     "output_type": "stream",
     "text": [
      "<_io.TextIOWrapper name='abc.txt' mode='w+' encoding='cp1252'>\n"
     ]
    }
   ],
   "source": [
    "file = open('abc.txt',mode = 'w+')           #new file is created if not found\n",
    "print(file)\n",
    "file.write('vishal')                         #Overwrite the file text\n",
    "#r = file.raed()                             #AttributeError and pointer at end\n",
    "file.close()"
   ]
  },
  {
   "cell_type": "code",
   "execution_count": 48,
   "metadata": {},
   "outputs": [
    {
     "name": "stdout",
     "output_type": "stream",
     "text": [
      "<_io.TextIOWrapper name='hii.txt' mode='a' encoding='cp1252'>\n"
     ]
    }
   ],
   "source": [
    "file_object = open('abc.txt',mode = 'a')\n",
    "file_object.write('B1 is best')\n",
    "#file_object.read()                          #UnsupportedOperationError\n",
    "file_object.close()\n",
    "\n",
    "file = open('hii.txt',mode = 'a')            #new file is created if not found\n",
    "print(file)\n",
    "file.write('HII')\n",
    "file.close()"
   ]
  },
  {
   "cell_type": "code",
   "execution_count": 52,
   "metadata": {},
   "outputs": [
    {
     "name": "stdout",
     "output_type": "stream",
     "text": [
      "\n",
      "<_io.TextIOWrapper name='a.txt' mode='a+' encoding='cp1252'>\n",
      "\n"
     ]
    }
   ],
   "source": [
    "file = open('hii.txt',mode = 'a+')\n",
    "r = file.read()\n",
    "print(r)\n",
    "file.write('Hello')\n",
    "file.close()\n",
    "\n",
    "file_obj = open('a.txt',mode = 'a+')         #new file is created if not found\n",
    "print(file_obj)\n",
    "file_obj.write('byeee')\n",
    "r1 = file_obj.read()\n",
    "print(r1)"
   ]
  },
  {
   "cell_type": "markdown",
   "metadata": {},
   "source": [
    "# File Object Attribute\n",
    "# 1. file.closed\n",
    "# 2. file.mode\n",
    "# 3. file.name\n",
    "# 4. readable()\n",
    "# 5. writeable()"
   ]
  },
  {
   "cell_type": "markdown",
   "metadata": {},
   "source": [
    "# Check File Exists or Not"
   ]
  },
  {
   "cell_type": "code",
   "execution_count": 58,
   "metadata": {},
   "outputs": [
    {
     "name": "stdout",
     "output_type": "stream",
     "text": [
      "True\n",
      "a+\n",
      "hii.txt\n",
      "True\n",
      "True\n"
     ]
    }
   ],
   "source": [
    "print(file.closed)\n",
    "print(file.mode)\n",
    "print(file.name)\n",
    "print(file_obj.readable())\n",
    "#print(file_obj.writeable())\n",
    "\n",
    "import os\n",
    "print(os.path.isfile('a.txt'))"
   ]
  },
  {
   "cell_type": "markdown",
   "metadata": {},
   "source": [
    "# Write() string\n",
    "# Writelines() list of string\n",
    "# Read()  and read(count)\n",
    "# Readline() and readline(size)\n",
    "# Readlines() and readlines(size)"
   ]
  },
  {
   "cell_type": "code",
   "execution_count": 62,
   "metadata": {},
   "outputs": [],
   "source": [
    "f = open('a.txt','w')\n",
    "f.write('hi')\n",
    "f.writelines(['1','2'])\n",
    "f.close()"
   ]
  },
  {
   "cell_type": "code",
   "execution_count": 74,
   "metadata": {},
   "outputs": [
    {
     "name": "stdout",
     "output_type": "stream",
     "text": [
      "hello hi welcome\n",
      "\n",
      "\n",
      "vishal\n",
      "\n",
      "B1 is b\n",
      "es\n",
      "t\n",
      "\n",
      "['ABC\\n', 'XYZ\\n']\n",
      "['HIIIII\\n']\n",
      "['HELLLOOOOO\\n', 'BYEEEEEE\\n', 'HOW ARE YOU?\\n', 'I AM FINE.\\n']\n"
     ]
    }
   ],
   "source": [
    "f = open('h.txt')\n",
    "x = f.read()\n",
    "print(x)\n",
    "y = f.read(2)\n",
    "print(y)\n",
    "p = f.read(5)\n",
    "print(p)\n",
    "f.close()\n",
    "\n",
    "f = open('abc.txt')\n",
    "print(f.readline())\n",
    "print(f.readline(7))\n",
    "print(f.readline(2))\n",
    "print(f.readline())\n",
    "f.close()\n",
    "\n",
    "f = open('xyz.txt')\n",
    "print(f.readlines(5))\n",
    "print(f.readlines(1))\n",
    "print(f.readlines())"
   ]
  },
  {
   "cell_type": "code",
   "execution_count": 3,
   "metadata": {},
   "outputs": [
    {
     "name": "stdout",
     "output_type": "stream",
     "text": [
      "ABC\n",
      "\n",
      "ABC\n",
      "XYZ\n",
      "\n",
      "XYZ\n",
      "HIIIII\n",
      "\n",
      "HIIIII\n",
      "HELLLOOOOO\n",
      "\n",
      "HELLLOOOOO\n",
      "BYEEEEEE\n",
      "\n",
      "BYEEEEEE\n",
      "HOW ARE YOU?\n",
      "\n",
      "HOW\n",
      "ARE\n",
      "YOU?\n",
      "I AM FINE.\n",
      "\n",
      "I\n",
      "AM\n",
      "FINE.\n"
     ]
    }
   ],
   "source": [
    "f = open('xyz.txt')\n",
    "for line in f:\n",
    "    print(line)\n",
    "    for word in line.split():\n",
    "        print(word)\n",
    "f.close()"
   ]
  },
  {
   "cell_type": "code",
   "execution_count": 5,
   "metadata": {},
   "outputs": [
    {
     "name": "stdout",
     "output_type": "stream",
     "text": [
      "v\n",
      "i\n",
      "s\n",
      "h\n",
      "a\n",
      "l\n",
      "\n",
      "\n",
      "B\n",
      "1\n",
      " \n",
      "i\n",
      "s\n",
      " \n",
      "b\n",
      "e\n",
      "s\n",
      "t\n",
      "\n",
      "\n",
      "B\n",
      "1\n",
      " \n",
      "i\n",
      "s\n",
      " \n",
      "b\n",
      "e\n",
      "s\n",
      "t\n",
      "\n",
      "\n",
      "B\n",
      "1\n",
      " \n",
      "i\n",
      "s\n",
      " \n",
      "b\n",
      "e\n",
      "s\n",
      "t\n",
      "\n",
      "\n",
      "B\n",
      "1\n",
      " \n",
      "i\n",
      "s\n",
      " \n",
      "b\n",
      "e\n",
      "s\n",
      "t\n",
      "\n",
      "\n",
      "B\n",
      "1\n",
      " \n",
      "i\n",
      "s\n",
      " \n",
      "b\n",
      "e\n",
      "s\n",
      "t\n"
     ]
    }
   ],
   "source": [
    "f = open('abc.txt')\n",
    "r = f.read()\n",
    "for i in r:\n",
    "    print(i)\n",
    "f.close()"
   ]
  },
  {
   "cell_type": "markdown",
   "metadata": {},
   "source": [
    "# WITH OPERATION"
   ]
  },
  {
   "cell_type": "code",
   "execution_count": 7,
   "metadata": {},
   "outputs": [],
   "source": [
    "with open('hello.txt') as f:\n",
    "    f.read()"
   ]
  },
  {
   "cell_type": "markdown",
   "metadata": {},
   "source": [
    "# TELL METHOD : position of point\n",
    "# SEEK METHOD(offset,where) : 0=start,1=current,2=end\n",
    "   don't work on txt file"
   ]
  },
  {
   "cell_type": "code",
   "execution_count": 12,
   "metadata": {},
   "outputs": [
    {
     "name": "stdout",
     "output_type": "stream",
     "text": [
      "0\n",
      "0\n",
      "\n"
     ]
    }
   ],
   "source": [
    "f = open('hii,txt','a+')\n",
    "print(f.tell())\n",
    "f.seek(0)\n",
    "print(f.tell())\n",
    "f.seek(5)\n",
    "print(f.read())\n",
    "#f.seek(7,1)                              #UnsupportedOperation "
   ]
  },
  {
   "cell_type": "markdown",
   "metadata": {},
   "source": [
    "# Practice Program"
   ]
  },
  {
   "cell_type": "code",
   "execution_count": 41,
   "metadata": {},
   "outputs": [
    {
     "name": "stdout",
     "output_type": "stream",
     "text": [
      "4line 1Col\n"
     ]
    }
   ],
   "source": [
    "f = open('file1.txt')\n",
    "f1 = open('file2.txt')\n",
    "file1 = f.readlines()\n",
    "file2 = f1.readlines()\n",
    "for i in range(len(file1)):\n",
    "    if(file1[i]!=file2[i]):\n",
    "        for k,j in enumerate(file1[i]):\n",
    "            if file1[i][k]!=file2[i][k]:\n",
    "                print(f'{i+1}line {k+1}Col')"
   ]
  },
  {
   "cell_type": "code",
   "execution_count": 46,
   "metadata": {},
   "outputs": [
    {
     "name": "stdout",
     "output_type": "stream",
     "text": [
      "vishal\n",
      "best\n",
      "B1\n",
      "is\n"
     ]
    },
    {
     "ename": "IndexError",
     "evalue": "list index out of range",
     "output_type": "error",
     "traceback": [
      "\u001b[1;31m---------------------------------------------------------------------------\u001b[0m",
      "\u001b[1;31mIndexError\u001b[0m                                Traceback (most recent call last)",
      "\u001b[1;32m<ipython-input-46-93d18abbf30d>\u001b[0m in \u001b[0;36m<module>\u001b[1;34m\u001b[0m\n\u001b[0;32m      8\u001b[0m \u001b[0ml\u001b[0m\u001b[1;33m.\u001b[0m\u001b[0msort\u001b[0m\u001b[1;33m(\u001b[0m\u001b[0mkey\u001b[0m\u001b[1;33m=\u001b[0m\u001b[1;32mlambda\u001b[0m \u001b[0mx\u001b[0m\u001b[1;33m:\u001b[0m\u001b[0mlen\u001b[0m\u001b[1;33m(\u001b[0m\u001b[0mx\u001b[0m\u001b[1;33m)\u001b[0m\u001b[1;33m,\u001b[0m\u001b[0mreverse\u001b[0m\u001b[1;33m=\u001b[0m\u001b[1;32mTrue\u001b[0m\u001b[1;33m)\u001b[0m\u001b[1;33m\u001b[0m\u001b[1;33m\u001b[0m\u001b[0m\n\u001b[0;32m      9\u001b[0m \u001b[1;32mfor\u001b[0m \u001b[0mi\u001b[0m \u001b[1;32min\u001b[0m \u001b[0mrange\u001b[0m\u001b[1;33m(\u001b[0m\u001b[1;36m0\u001b[0m\u001b[1;33m,\u001b[0m\u001b[1;36m5\u001b[0m\u001b[1;33m)\u001b[0m\u001b[1;33m:\u001b[0m\u001b[1;33m\u001b[0m\u001b[1;33m\u001b[0m\u001b[0m\n\u001b[1;32m---> 10\u001b[1;33m     \u001b[0mprint\u001b[0m\u001b[1;33m(\u001b[0m\u001b[0ml\u001b[0m\u001b[1;33m[\u001b[0m\u001b[0mi\u001b[0m\u001b[1;33m]\u001b[0m\u001b[1;33m)\u001b[0m\u001b[1;33m\u001b[0m\u001b[1;33m\u001b[0m\u001b[0m\n\u001b[0m",
      "\u001b[1;31mIndexError\u001b[0m: list index out of range"
     ]
    }
   ],
   "source": [
    "f = open('abc.txt')\n",
    "l=[]\n",
    "for line in f:\n",
    "    for word in line.split():\n",
    "        if word not in l:\n",
    "            l.append(word)\n",
    "            \n",
    "l.sort(key=lambda x:len(x),reverse=True)\n",
    "for i in range(0,5):\n",
    "    print(l[i])"
   ]
  },
  {
   "cell_type": "code",
   "execution_count": 48,
   "metadata": {},
   "outputs": [
    {
     "name": "stdout",
     "output_type": "stream",
     "text": [
      "hdndnsbfsdk;\n",
      "\n"
     ]
    }
   ],
   "source": [
    "f=open('abc.txt','r')\n",
    "lis=[]\n",
    "def ding(a):\n",
    "    if len(a)<=80:\n",
    "        lis.append(a)\n",
    "        return\n",
    "    else:\n",
    "        if a[79]==' ':\n",
    "            lis.append(a[:80])\n",
    "            ding(a[80:])\n",
    "        elif a[79]!=' ':\n",
    "            ind=a.rfind(' ',0,79)\n",
    "            lis.append(a[:ind+1])\n",
    "            ding(a[ind+1:])\n",
    "for x in f:\n",
    "    if len(x)>80:\n",
    "        ding(x)\n",
    "    else:\n",
    "        lis.append(x)\n",
    "        \n",
    "ty=open('9-16o.txt','w')\n",
    "for x in lis:\n",
    "    if x[-1]==' ':\n",
    "        x=x[:-1]+'\\n'\n",
    "    else :\n",
    "        x+='\\n'\n",
    "ty.write(x)\n",
    "f.close()\n",
    "ty.close()\n",
    "f=open(\"9-16o.txt\")\n",
    "print(f.read())"
   ]
  },
  {
   "cell_type": "code",
   "execution_count": null,
   "metadata": {},
   "outputs": [],
   "source": [
    "f = open('abc.txt')\n",
    "l = f.read().split(' ')\n",
    "c = 0\n",
    "for i in range(len(l)):\n",
    "    if (c+len(l[1]))<=80:\n",
    "        f1.write(l(i)+' ')\n",
    "    else:\n",
    "        f.write('\\n'+l(i)+' ')\n",
    "        c=0\n",
    "    c=len(i)+1\n",
    "print(c)"
   ]
  }
 ],
 "metadata": {
  "kernelspec": {
   "display_name": "Python 3",
   "language": "python",
   "name": "python3"
  },
  "language_info": {
   "codemirror_mode": {
    "name": "ipython",
    "version": 3
   },
   "file_extension": ".py",
   "mimetype": "text/x-python",
   "name": "python",
   "nbconvert_exporter": "python",
   "pygments_lexer": "ipython3",
   "version": "3.8.5"
  }
 },
 "nbformat": 4,
 "nbformat_minor": 4
}
