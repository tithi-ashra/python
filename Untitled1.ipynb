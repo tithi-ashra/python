{
 "cells": [
  {
   "cell_type": "code",
   "execution_count": 25,
   "metadata": {},
   "outputs": [
    {
     "name": "stdout",
     "output_type": "stream",
     "text": [
      "Enter password : Tithi@123\n",
      "Password is valid\n"
     ]
    }
   ],
   "source": [
    "p = input(\"Enter password : \")\n",
    "u=l=d=s=sc=0\n",
    "if len(p)>8:\n",
    "    for i in p:\n",
    "        if i.isupper():\n",
    "            u += 1\n",
    "        elif i.islower():\n",
    "            l += 1\n",
    "        elif i.isdigit():\n",
    "            d += 1\n",
    "        elif i.isspace():\n",
    "            s += 1\n",
    "        else:\n",
    "            sc += 1\n",
    "    print(\"Password is valid\")\n",
    "else:\n",
    "    print(\"Please re-enter password again\")\n",
    "    \n",
    "if not(u):\n",
    "    print(\"Please enter atleast one upper character\")\n",
    "if not(l):\n",
    "    print(\"Please enter atleast one lower character\")\n",
    "if not(d):\n",
    "    print(\"Please enter atleast one digit\")\n",
    "if s>0:\n",
    "    print(\"Please don't enter space\")\n",
    "if not(sc):\n",
    "    print(\"Please enter atleast one special character\")"
   ]
  },
  {
   "cell_type": "code",
   "execution_count": 37,
   "metadata": {},
   "outputs": [
    {
     "name": "stdout",
     "output_type": "stream",
     "text": [
      "Enter code : AcD\n",
      "Enter step : 2\n",
      "CeF\n"
     ]
    }
   ],
   "source": [
    "c = input(\"Enter code : \")\n",
    "s = int(input(\"Enter step : \"))\n",
    "c1 = \"\"\n",
    "for i in range(len(c)):\n",
    "    t = ord(c[i])\n",
    "    if t==120:\n",
    "        t=65-s\n",
    "    elif t==121:\n",
    "        t=66-s\n",
    "    elif t==122:\n",
    "        t=67-s\n",
    "    t += s\n",
    "    c1 += chr(t)\n",
    "print(c1)"
   ]
  },
  {
   "cell_type": "code",
   "execution_count": 62,
   "metadata": {},
   "outputs": [
    {
     "name": "stdout",
     "output_type": "stream",
     "text": [
      "even  B1\n",
      "even  is\n",
      "even  best\n",
      "even  in\n",
      "odd  FSD\n",
      "{97: 49, 98: 50, 99: 51, 100: 52, 101: 53}\n"
     ]
    },
    {
     "data": {
      "text/plain": [
       "'vish1l is 25st'"
      ]
     },
     "execution_count": 62,
     "metadata": {},
     "output_type": "execute_result"
    }
   ],
   "source": [
    "'''String methods are :\n",
    "   20.split()\n",
    "   21.join()\n",
    "   22.replace()\n",
    "   23.strip()\n",
    "   24.lstrip()\n",
    "   25.rstrip()\n",
    "   26.maketrans()\n",
    "   27.translate()'''\n",
    "\n",
    "x = \"vishal is best\"\n",
    "x.split()                                      #['vishal', 'is', 'best']\n",
    "x.split('i')                                   #['v', 'shal ', 's best']\n",
    "x.split('i',1)                                 #['v', 'shal is best']\n",
    "\",\".join([\"hii\",\"welcomed\"])                   #'hii,welcomed'\n",
    "\"-\".join(x)                                    #'v-i-s-h-a-l- -i-s- -b-e-s-t'\n",
    "\n",
    "a = \"B1 is best in FSD\"\n",
    "for i in a.split():\n",
    "    if len(i)%2!=0:\n",
    "        print(\"odd \",i)\n",
    "    else:\n",
    "        print(\"even \",i)\n",
    "        \n",
    "x.replace(\"is\",\"of\")                           #'vofhal of best'\n",
    "x.replace('i','o',1)                           #'voshal is best'\n",
    "x.replace('i','o',x.count('i'))                #'voshal os best'\n",
    "x.strip()                                      #'vishal is best'\n",
    "x.rstrip()                                     #'vishal is best'\n",
    "x.lstrip()                                     #'vishal is best'\n",
    "\n",
    "y = 'abcde'\n",
    "z = '12345'\n",
    "d = str.maketrans(y,z)\n",
    "print(d)                                       #{97: 49, 98: 50, 99: 51, 100: 52, 101: 53}\n",
    "x.translate(d)                                 #'vish1l is 25st'"
   ]
  },
  {
   "cell_type": "code",
   "execution_count": 69,
   "metadata": {},
   "outputs": [
    {
     "name": "stdout",
     "output_type": "stream",
     "text": [
      "Enter character : abcd1234efghkfl\n",
      "abcdefghkfl\n"
     ]
    }
   ],
   "source": [
    "x = input(\"Enter character : \")\n",
    "s = x.translate(str.maketrans(\"\",\"\",\"0123456789\"))\n",
    "print(s)"
   ]
  },
  {
   "cell_type": "code",
   "execution_count": 71,
   "metadata": {},
   "outputs": [
    {
     "name": "stdout",
     "output_type": "stream",
     "text": [
      "2503282652544\n",
      "140706866603936\n",
      "140706866603936\n"
     ]
    }
   ],
   "source": [
    "l = [5,6,7,8,\"best\",\"s\"]\n",
    "print(id(l))                             #2503282652544\n",
    "print(id(l[0]))                          #140706866603936\n",
    "print(id(5))                             #140706866603936"
   ]
  }
 ],
 "metadata": {
  "kernelspec": {
   "display_name": "Python 3",
   "language": "python",
   "name": "python3"
  },
  "language_info": {
   "codemirror_mode": {
    "name": "ipython",
    "version": 3
   },
   "file_extension": ".py",
   "mimetype": "text/x-python",
   "name": "python",
   "nbconvert_exporter": "python",
   "pygments_lexer": "ipython3",
   "version": "3.8.5"
  }
 },
 "nbformat": 4,
 "nbformat_minor": 4
}
