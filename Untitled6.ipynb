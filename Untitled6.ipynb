{
 "cells": [
  {
   "cell_type": "code",
   "execution_count": 4,
   "metadata": {},
   "outputs": [
    {
     "name": "stdout",
     "output_type": "stream",
     "text": [
      "set()\n",
      "<class 'set'>\n",
      "{}\n",
      "<class 'dict'>\n"
     ]
    }
   ],
   "source": [
    "s=set()\n",
    "print(s)\n",
    "print(type(s))\n",
    "s={}\n",
    "print(s)\n",
    "print(type(s))"
   ]
  },
  {
   "cell_type": "code",
   "execution_count": 11,
   "metadata": {},
   "outputs": [
    {
     "name": "stdout",
     "output_type": "stream",
     "text": [
      "{1, 7, 8, 9, 'v'}\n",
      "{1, 2, 3}\n"
     ]
    }
   ],
   "source": [
    "s={7,8,9,'v',1}\n",
    "print(s)\n",
    "s={1,1,1,2,3,2,3}\n",
    "print(s)\n",
    "#print(s[0])                        #error\n",
    "#s={[1,1],[1,2],(1,2)}\n",
    "#print(s)                           #error"
   ]
  },
  {
   "cell_type": "code",
   "execution_count": 19,
   "metadata": {},
   "outputs": [
    {
     "name": "stdout",
     "output_type": "stream",
     "text": [
      "{'s'}\n",
      "{(1, 2), 's'}\n",
      "{1, 2, 3, 'l', 'a', 's', 'v', 'h', 'i'}\n",
      "{1, 2, 3, 'l', 'a', 's', 'v', 'h', 'i'}\n"
     ]
    }
   ],
   "source": [
    "s=set()\n",
    "s.add('s')\n",
    "print(s)\n",
    "s.add((1,2))\n",
    "print(s)\n",
    "#s.add([1,2])                     #error\n",
    "\n",
    "s1={1,2,3}\n",
    "s1.update('vishal')\n",
    "print(s1)\n",
    "s1.update([1,2,3])\n",
    "print(s1)"
   ]
  },
  {
   "cell_type": "code",
   "execution_count": 31,
   "metadata": {},
   "outputs": [
    {
     "name": "stdout",
     "output_type": "stream",
     "text": [
      "2\n",
      "{3, 4}\n",
      "{4}\n",
      "{4}\n",
      "{4}\n",
      "None\n",
      "set()\n"
     ]
    }
   ],
   "source": [
    "s={1,2,3,4}\n",
    "#del s[0]                         #Typeerror\n",
    "#del s                            #Nameerror\n",
    "s.pop()\n",
    "print(s.pop())\n",
    "print(s)\n",
    "s.remove(3)                       #print none\n",
    "print(s)\n",
    "s.discard(3)\n",
    "print(s)\n",
    "s.discard(7)\n",
    "print(s)\n",
    "print(s.clear())\n",
    "print(s)"
   ]
  },
  {
   "cell_type": "code",
   "execution_count": 34,
   "metadata": {},
   "outputs": [
    {
     "name": "stdout",
     "output_type": "stream",
     "text": [
      "True\n",
      "False\n",
      "1\n",
      "2\n",
      "3\n",
      "(5, 4)\n"
     ]
    }
   ],
   "source": [
    "s={1,2,3,(5,4)}\n",
    "print(1 in s)\n",
    "print(5 in s)\n",
    "for i in s:\n",
    "    print(i)"
   ]
  },
  {
   "cell_type": "code",
   "execution_count": 37,
   "metadata": {},
   "outputs": [
    {
     "name": "stdout",
     "output_type": "stream",
     "text": [
      "5\n",
      "1\n",
      "5\n",
      "[1, 2, 3, 4, 5]\n"
     ]
    }
   ],
   "source": [
    "s={1,2,3,5,4}\n",
    "print(len(s))\n",
    "print(min(s))\n",
    "print(max(s))\n",
    "print(sorted(s))"
   ]
  },
  {
   "cell_type": "code",
   "execution_count": 55,
   "metadata": {},
   "outputs": [
    {
     "name": "stdout",
     "output_type": "stream",
     "text": [
      "{1, 2, 3, 4, 5, 6}\n",
      "{1, 2, 3, 4, 5, 6}\n",
      "None\n",
      "{1, 2, 3, 4, 5, 6}\n",
      "{3, 4, 5, 6}\n",
      "{3, 4, 5, 6}\n",
      "{1, 2, 3, 4, 5, 6}\n",
      "{1, 2}\n",
      "set()\n"
     ]
    }
   ],
   "source": [
    "\"\"\"Methods are :- 1.union(|)\n",
    "                  2.update()\n",
    "                  3.intersection(&)\n",
    "                  4.intersection-update()\n",
    "                  5.difference(-)\n",
    "                  6.difference-update()\n",
    "                  7.symmetric-difference()\n",
    "                  8.symmetric-differnece-update()\n",
    "                  9.isdisjoint()\n",
    "                  10.issubset()\n",
    "                  11.issuperset()\"\"\"\n",
    "\n",
    "s1={1,2,3,4}\n",
    "s2={3,4,5,6}\n",
    "print(s1|s2)\n",
    "print(s1.union(s2))\n",
    "print(s1.update(s2))\n",
    "print(s1)\n",
    "print(s1&s2)\n",
    "print(s1.intersection(s2))\n",
    "print(s1)\n",
    "print(s1-s2)\n",
    "print(s2-s1)"
   ]
  },
  {
   "cell_type": "code",
   "execution_count": 60,
   "metadata": {},
   "outputs": [
    {
     "name": "stdout",
     "output_type": "stream",
     "text": [
      "False\n",
      "False\n",
      "False\n",
      "False\n",
      "False\n",
      "False\n"
     ]
    }
   ],
   "source": [
    "s1={1,2,3,4}\n",
    "s2={3,4,5,6}\n",
    "print(s1.isdisjoint(s2))\n",
    "print(s2.isdisjoint(s1))\n",
    "print(s1.issubset(s2))\n",
    "print(s2.issubset(s1))\n",
    "print(s1.issuperset(s2))\n",
    "print(s2.issuperset(s1))"
   ]
  },
  {
   "cell_type": "code",
   "execution_count": 63,
   "metadata": {},
   "outputs": [
    {
     "name": "stdout",
     "output_type": "stream",
     "text": [
      "frozenset({1, 2, 3})\n",
      "frozenset({3, 4, 5})\n"
     ]
    }
   ],
   "source": [
    "fs1=frozenset([1,2,3])\n",
    "fs2=frozenset([3,4,5])\n",
    "print(fs1)\n",
    "print(fs2)"
   ]
  },
  {
   "cell_type": "code",
   "execution_count": 67,
   "metadata": {},
   "outputs": [
    {
     "name": "stdout",
     "output_type": "stream",
     "text": [
      "36\n",
      "5\n",
      "4\n"
     ]
    }
   ],
   "source": [
    "a=lambda x:x**2\n",
    "print(a(6))\n",
    "\n",
    "b=lambda x,y:x+y\n",
    "print(b(2,3))\n",
    "\n",
    "c=lambda x,y=2:x+y\n",
    "print(c(2))"
   ]
  },
  {
   "cell_type": "code",
   "execution_count": 74,
   "metadata": {},
   "outputs": [
    {
     "name": "stdout",
     "output_type": "stream",
     "text": [
      "Enter list : [1,2,3]\n",
      "[1, 8, 27]\n"
     ]
    }
   ],
   "source": [
    "l = eval(input(\"Enter list : \"))\n",
    "cube = lambda x:x**3\n",
    "for i in range(len(l)):\n",
    "    l[i] = cube(l[i])\n",
    "print(l)\n",
    "#print(type(cube))                  #<class 'function'>"
   ]
  },
  {
   "cell_type": "code",
   "execution_count": 79,
   "metadata": {},
   "outputs": [
    {
     "name": "stdout",
     "output_type": "stream",
     "text": [
      "[1, 4, 9, 16, 25]\n",
      "['odd', 'even', 'odd', 'even', 'odd']\n"
     ]
    }
   ],
   "source": [
    "\"\"\"MAP,FILTER and REDUCE\"\"\"\n",
    "l=[1,2,3,4,5]\n",
    "double = list(map(lambda x:x**2,l))\n",
    "print(double)\n",
    "\n",
    "ans = list(map(lambda x:'even' if x%2==0 else 'odd',l))\n",
    "print(ans)"
   ]
  },
  {
   "cell_type": "code",
   "execution_count": 82,
   "metadata": {},
   "outputs": [
    {
     "name": "stdout",
     "output_type": "stream",
     "text": [
      "[2, 4]\n",
      "['apple', 'ant']\n"
     ]
    }
   ],
   "source": [
    "l=list(filter(lambda x:x%2==0,[1,2,3,4,5]))\n",
    "print(l)\n",
    "\n",
    "l=['mango','apple','orange','ant','ox']\n",
    "ans = list(filter(lambda x:x.startswith('a'),l))  #x[0]=='a'\n",
    "print(ans)"
   ]
  },
  {
   "cell_type": "code",
   "execution_count": 84,
   "metadata": {},
   "outputs": [
    {
     "name": "stdout",
     "output_type": "stream",
     "text": [
      "120\n"
     ]
    }
   ],
   "source": [
    "from functools import reduce\n",
    "l=[1,2,3,4,5]\n",
    "sum=reduce(lambda x,y:x*y,l)\n",
    "print(sum)"
   ]
  },
  {
   "cell_type": "code",
   "execution_count": 2,
   "metadata": {},
   "outputs": [
    {
     "name": "stdout",
     "output_type": "stream",
     "text": [
      "[('C', 1), ('E', 1), ('F', 2), ('B', 3), ('A', 5)]\n"
     ]
    }
   ],
   "source": [
    "d={'A':5,'B':3,'C':1,'E':1,'F':2}\n",
    "l=list(d.items())\n",
    "l.sort(key=lambda x:x[1])\n",
    "print(l)"
   ]
  }
 ],
 "metadata": {
  "kernelspec": {
   "display_name": "Python 3",
   "language": "python",
   "name": "python3"
  },
  "language_info": {
   "codemirror_mode": {
    "name": "ipython",
    "version": 3
   },
   "file_extension": ".py",
   "mimetype": "text/x-python",
   "name": "python",
   "nbconvert_exporter": "python",
   "pygments_lexer": "ipython3",
   "version": "3.8.5"
  }
 },
 "nbformat": 4,
 "nbformat_minor": 4
}
